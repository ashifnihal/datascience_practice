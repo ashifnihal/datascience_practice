{
 "cells": [
  {
   "cell_type": "code",
   "execution_count": 90,
   "id": "98e19784-e623-478f-a6f8-8571f8b23490",
   "metadata": {},
   "outputs": [
    {
     "name": "stdout",
     "output_type": "stream",
     "text": [
      "['PK\\x03\\x04\\n', '\\x00\\x00\\x00\\x00\\x00\\x00\\x00!\\x00\\x85l9\\x8a.\\x00\\x00\\x00.\\x00\\x00\\x00\\x08\\x00\\x00\\x00mimetypeapplication/vnd.oasis.opendocument.spreadsheetPK\\x03\\x04\\x14\\x00\\x06\\x00\\x08\\x00\\x00\\x00!\\x00ÀC4®©\\x03\\x00\\x00\\x13\\x0b\\x00\\x00\\n', '\\x00\\x00\\x00styles.xmlÄVKo\\x9c0\\x10¾Wê\\x7f@\\x8ezd\\x81<Ô\\x06\\x85í¡U\\x8f=µ?Àk\\x0cëÆØÈ6ÙÝþú\\x8e_`\\x9aMÅ\\xad9dÅ¼ç\\x9bo\\x06\\x9e>\\x9f\\x07\\x9e½P¥\\x99\\x14\\n', \"ªv%Ê¨ ²e¢oÐÏ\\x1fßòO(Ó\\x06\\x8b\\x16s)h\\x83.T£Ïû÷ï\\x9ed×1BëV\\x92i\\xa0ÂäÚ\\\\8Õ\\x19\\x84\\x13º6øÀÁxR¢\\x96X3]\\x0b<P\\x10\\x93Z\\x8eTD\\x9f:1®]j/ð¡·º\\x87B\\x12\\x7fCÏf«·µMs»6¶:;ãÔ»Uø´ÕÙÚ\\x02Ê©{'·:\\x9f5Ï;\\x99\\x139\\x8cØ0\\x00;\\n\", 'sæL<7èhÌX\\x17ÅétÚ\\x9dîvRõEõøøX8-\\n', \"\\x83jÉl7N\\x8a;«\\x96\\x14\\x94S;T]T»ª\\x88¶b\\x1a\\x0eTm\\xad°Å\\x06¿ÂG¿\\x00«¶±\\x02LßhOv[cÈ\\x0e`¹EY\\xa0HBó[´\\x8f\\x0cî$°·Ã\\x84æ-%\\\\ï\\x9f|Õ³\\x18è\\x0fÌv\\x0cnÐ\\x17ÌÙA1Ø\\x89\\x97¾\\x0e&\\x03ã\\x97ESì\\x9f\\x8a\\x90o\\x0e\\x11#\\x07¹\\x0b\\x08\\x89<\\xa0µÿñ\\x0b´Jö½\\x84*WFYx\\x1a\\x98È\\x990´§*oYÏ\\x8c\\x86ÝE6õÊÜÇ\\x9ccÀHèµ4·I\\x9e\\x16_b\\x12Wf\\x83`ï{\\x1b:D¶\\x0b³ÏçDî1ê\\x06\\x80ò\\x18Ý\\xadfÂ¼AFMtc\\x80\\x0bÅ*éb)8NÅÕ´\\x02é+íðÄ\\x8d½RvL\\x1döãp\\x17('\\x94ó¨±\\x84ôÝçö\\x1a5ÈÁë½\\x16ë|Tp¢\\x94apË¼\\x0eXc\\x18Á<\\x87Ñ÷p#ñdä\\x00KGPÖÉú\\x80És¯ä$Z`+\\x97°\\x1eFa¡G¬`\\x7fl×!\\x01\\x80\\x91\\x86\\x06Ï`~Sº¿X¥ã\\x8c¯oá\\x9aïÌòÔjr¸¨\\x18\\n\", 'ySo¯\\x02§çÄ\\x02Ò¹À\\x9aý\\x86Æ«j\\\\ð²Q\\xad8F½®\\x9cC:µ\\x1d\\x91ïËý\\x8fM¶~\\x14+\\x8aÅyô\\n', '\\x8fGÀ,Ú\\x86ç\\x14\\x13{\\x10ë\\x8eq\\xa0\\x8c\\x96\\x9cµ(\\x9b%\\x11Û\\x9bûû\\x8f·ä>hä\\x88\\t3°{UY~\\x082m\\x94|\\x86\\x1eC\\x04»¦^\\x94\\x9fXk\\x8e\\n', '*weu÷é\\x91\\t¿ÃA\\x19\\x87QAø\\x87j¥z;K\\x0ew\\x96þ\\x92\\x0cf10CÕÊÍê\\x08\\x1e\\x1bt\\x98\\x8c#B@l\\x05Òr+\\x1c\\x90p\\x13Â\\x89\\x98IæÁ\\x9c¯Ò\\x88{\\x9as|\\x91\\x93YmÁ8T3´\\x89M\\n', '/p`Àª\\x87Ëa$\\x94Uîî,\\x06\\x8bô \\n', '\\x10û\\x8a\\x82Ó\\x0e^§åîãÚ^±þ¸È\\x03Íí{\\x1f¶\\x0eN\\x93r_\\x10\\x02>\\x1a\"µG\\x10\\x81\\x83<ü¢Äè\\x8c\\x1c±\\x82\\x9fð\\x1aÔË®\\x1c)ná®\\xad¨\\x15d\\x9d\\x94\\x10ùï®\\xa0¥#\\x8dÕÜ?¬ËÜTý\\x15\\x14 ÊBók%\\x85ZþO\\x99~\\x84«\\x1a×õ\\x04¶%\\\\X¸ö\\x9a\\\\\\x81u\\x03¼±#ò3å\\x82ÐFZQn\\x18í\\x9e¸Ó\\x94d\\t·5å£\\x07o>\\x85\\x01K;\\x97àÞ2=\\x02§\\x1bÔa®Ý«Â\\x87õ\\x1dÍ\\x8e¡Á\\x7f:\\x86¶\\x93\\x9a\\x97¶ÿê.¾¥ã×hÜ´?\\x00\\x00\\x00ÿÿ\\x03\\x00PK\\x03\\x04\\x14\\x00\\x06\\x00\\x08\\x00\\x00\\x00!\\x00\\x08\\x93\\x13ßU\\x05\\x00\\x00õ\\x17\\x00\\x00\\x0b\\x00\\x00\\x00content.xmlÔXÝ\\x8e£6\\x14¾¯Ôw@ìí:\\x01ò\\x1f%YU\\x9dîe/º»\\x0fà\\x80\\tt\\x0cF¶\\x19&oßc\\x1b\\x13\\x93IZ²\\x93\\x8cÔ(\\x9a\\tøøü\\x9fï\\x1c{óåµ\\xa0Þ\\x0bá\"gåÖ\\x0fG\\x81ï\\x912fI^\\x1e¶þ\\x8fï_ÑÒ÷\\x84Äe\\x82)+ÉÖ?\\x12á\\x7fÙýúË\\x86¥i\\x1e\\x93uÂâº ¥D1+%ü÷\\x80_)Ö\\x12ï)P×¼\\\\3,r±.qAàu¼f\\x15)í¦µC¼Ö²Í\\x0bÃ{èöV\\x13g¿$¯rènEëÊ\\x16ò8\\\\sMìîN8n\\x86JV´àfw{Ê\\x86n~\\x15\\x14¥\\x0c¼^TXæàl\\x97Í+ÍËç\\xad\\x9fIY\\xadÇã¦iFÍdÄøa\\x1c®V«±^õÛ@%qGWÕ\\x9cjª$\\x1e\\x13JTTÅ8\\x1c\\x85cK[ÖÅ\\x9eð¡\\x1a&Xâ7þ\\x11/\\x90VÃ²\\x02H¯\\x98ÇÒ¡<X\\n', \"n\\x89|¯M\\x11'Ï#\\x7fgS8\\x85ÌE)\\x8e\\tJHLÅnc´î^CþCJè\\x0cÞú¿c\\x9aïy\\x0eEñrX·$EN\\x8f§\\x95ñn3nåu,,çö=®%+ l1Ò¬;\\x91ú©'.&¡ª?%?ÅF\\x8e.-\\x14\\x13JíJ\\x85¹ª@M\\x86T¡mý'\\x92â\\x9aJK¡bÑ[ÿ3ðAOÃø\\x92TðÙc¤Z¡'+PÅ\\x01\\x13¸Ì\\x89ðR¶Þ3\\x9e¨$\\x93Y^z\\x82Ñ<ñ>\\x05úcU\\x82(\\x82ë0E\\x10\\x8a\\x03\\x80VçMKÀIEp\\x87H[?ÅT\\x90\\x93½à.|à¸ÊÎ$+$°<cp(ájÏØq\\x92Uþ\\x92Ç&Vú½ãd\\x85>ÆcÊã8~>pV\\x97\\tÔ\\x1beàûO_á\\x13@+0¶ßÕ\\x9f\\x86¥öu?ðºX\\x1a\\x92\\x1f2Àî=£\\x89\\x15ï, è%\\x18B~mYÁ!%¯-Á\\n\", 'Ñ\\x9bvÂî\\\\e\\x0f\\x8f^\\x03\\x99\\x8cX%uÿV\\x0fÖ\\x92»Fmh\\x15Ì¬ôûVA\\x14\\x00\\\\·\\x99£&\\x0b\\n', '\\x7fgåû?\\x05\\x0ev\\n', 'à\\x19\\xad\\x8bòÜlýòÜpNð3Ú\\x93\\x94q@~\\x85\\x866\\x08PÎÀ\\x035y\"35ÜÍW\\x13ç\\x13\\x177à\\x1b»Ö\\x11î®f4\\n', \"'\\x8båIOP³Å¡Z\\x10\\x9dé\\x05`\\x7fß4Ék\\n\", \"ð\\x03Ó\\x94]\\x03ë\\x07\\x183\\x8f¦óî³¸¿1üZ\\x02qÖ\\x9ce\\x0f¼qS§\\x05wx\\x99µ¨\\x1bNGÓª\\x1b\\x1a\\\\w«\\xad\\x96J;[·ê·\\x897\\x18rùµ\\x84ú\\tµ\\x97ó\\x0fTûJêü\\x84Úa8\\x1bE\\x1fän\\x89/Ã\\x8c-\\xad\\x02FuÂQ\\x85\\x0f¤\\x9d \\x8b*<K\\x1f§]ëYd\\x9dä¢¢\\x18F_\\x93\\x11&\\x9f\\x1a\\x9eK8Õ\\xa0\\x82%\\x80F\\x94#¹\\x7f\\x0b3v@îF·n\\x10n'ä=K\\x8eÝ\\x80.*H´Dd\\x84ÈÝÆ\\x88\\x86ñ/®)\\x8cÐ¬D\\x82H%Qxv\\t`B\\x90R\\x80\\x1e/\\xa0\\x82\\x99þÚEA0\\x8f3\\x14\\x83\\x92\\x84ç\\x18\\x15µ\\x80\\x99¯ªè\\x11I\\x86\\x9a\\x8cµ½ÅÚdXªJhr\\x9aÄ\\x98'âí\\x12'\\x07Ð\\x85#ò\\n\", '\\x8a\\n', 'u\\x92\\x06¢\\x9eØ\\x93\\x9di\\x0ec\\x16Å{B;\\x1a¨\\x19#Fÿm\\x155cü7e3DÎ¬k\\x07·áQ\\x01íík\\x11ñ\\x02i¬\\x10ÂpHÌ±À´O\\x97\\x9d:gôõø7~Ð\\x0bîÊ\\x0fjê®ü:{Í\\x89µ5E 3\\x12\\x91\\x04zá|²ì¨nñ\\n', \"Ôù\\x05\\x17+\\x10>\\x8b\\x06\\x9cÏºc'¦5AòXA6\\n\", 'É!W\\xad½ý\\x10L\\x14\\x0fu\\x1dQí~{zúë\\x8fo\\x9bqû\\x08?ÔØc®Utôî*\\n', \"\\x8e\\x87ä£dÉ¼¸Q\\x961ý?B©\\x1a\\x8fë#\\x88SßE×\\x02§.\\x02Ü\\x8dê`}kà¦§ÀÍæ2óö¤ôÔQª<~öö²ð\\x00$Y-á7.\\x0fp\\x8fÆ\\x89·X®\\x82\\x95\\t¶Ðª\\x9b°÷mPª¼_9m\\xa0a?á\\x89\\x87+îEA\\x14=4Þ\\x8eÌYÆ½ÙÌ+à4¿\\x14$¾MìcC¯ëí¬®Þ\\x11ú(\\x80ÐC}\\x13òÙû\\x9be¥ð8ÃÉg¯É\\xa0Ù¤9¡ðû\\x94\\x01È\\x9bÍ\\x17·yÃÞb9p¢*·»ÞR\\x0fèE\\xadn}\\x08q\\x88Â\\x08\\x05óïA°ÖßË\\xa03;ån0GO$FQønµRÊ0Ì\\x91®Â[?\\x18EË`1u¿\\x97Ur²ç´çF¥î\\x9d9-ü\\x00\\x8aôÚH0]Î\\x16]ûráüJK\\x18\\xa0×TÏK.&i0sáítÅØ\\x9b\\x8dìXe¦'ûdoÛ¡\\n\", 'ê+úÝ?\\x00\\x00\\x00ÿÿ\\x03\\x00PK\\x03\\x04\\x14\\x00\\x06\\x00\\x08\\x00\\x00\\x00!\\x00\\x87Ê\\x0fñØ\\x00\\x00\\x00\\x14\\x02\\x00\\x00\\x15\\x00\\x00\\x00META-INF/manifest.xml¬\\x90Aj\\x031\\x0cE÷\\x85ÞÁx?v³+&\\x9eìz\\x82ö\\x00ÂÖ4\\x06[6#MÈÜ>Na\\x92vQH¡;I\\x16ï}y\\x7f8\\x97¬N8sªäõÎ¼h\\x85\\x14jLôéõÇûÛðª\\x15\\x0bP\\x84\\\\\\t½^\\x91õa|~Ú\\x17\\xa04!\\x8bÛ\\n', 'ÕIÄ·Öëe&W\\x81\\x13;\\x82\\x82ì$¸Ú\\x90b\\n', 'KA\\x12÷sß]Ýã\\x1d;¥\\x8cC_\\x9bWµ\\x19Ü´ä<4\\x90£×VßÇ\\x05c\\x82AÖÖóAk9\\x05\\x90~\\x8e=Q4_\\x01Ìw¯á6#D>\"\\x8a¶\\x8f\\x1bYÖ\\x8clzê_Ô\\x82g±×ç?@C%éGþ3µ\\xa0À\\x83H{ûÜ\\xad\\x18/\\x00\\x00\\x00ÿÿ\\x03\\x00PK\\x03\\x04\\x14\\x00\\x06\\x00\\x08\\x00\\x00\\x00!\\x00Æ\\x9d4öG\\x01\\x00\\x00\\x86\\x02\\x00\\x00\\x08\\x00\\x00\\x00meta.xml\\x8cR=o\\x830\\x10Ý+õ? ïÆ\\x18¢´X@\\x86ªÝª.i\\x87n\\x969\\x12«Æ\\x8elSÒ\\x7f_0\\x10Ñ(CGß½¯{r±;·*ú\\x06ë¤Ñ%¢q\\x82\"ÐÂÔR\\x1fJô¾\\x7fÁ\\x8f(r\\x9eë\\x9a+£¡D?àÐ®º¿+LÓH\\x01¬6¢kA{Ü\\x82çÑ ¦\\x1d\\x9bV%ê¬f\\x86;é\\x98æ-8æ\\x053\\'Ð\\x0b\\x85\\xadÑ,XO\\x93Qê¿ì\\x11»æÖ¢DGïO\\x8c\\x90SgUlì\\x81Ô\\x82\\x80\\x821¥#4¦\\x04Í9ÏJê¯\\x0b¼ïû¸Ï\\x02\\x81æyNÂ\\x16Eó\\x9d«\\x8aRT-×\\x8fîU\\x112\\x1c@\\x83åÞØêU\\n', 'k\\x9ciü[¨\\x88Ðm\\x9cD\\x97áóY\\x80\"O\\\\\\x89Nq?´þ1\\x95\\x8fÓíCF\\x0br%6\\x89K-½ä\\n', '\\x0b\\x0bÁ\\x82»£l\"-\\x8f\\\\Í\\x8ckDQ\\x0bv\\x13½\\x9aOÚ\\x015äÀ5÷P¥IºÁI\\x86\\x93|O3F\\x13¶I>g\\x8b¿ÀÑà\\x16#e\\x9bl`,Û\\x82Ì\\x05NU-¯å\\x0f\\x84oSý\\x02\\x00\\x00ÿÿ\\x03\\x00PK\\x01\\x02-\\x00\\n', '\\x00\\x00\\x00\\x00\\x00\\x00\\x00!\\x00\\x85l9\\x8a.\\x00\\x00\\x00.\\x00\\x00\\x00\\x08\\x00\\x00\\x00\\x00\\x00\\x00\\x00\\x00\\x00\\x00\\x00\\x00\\x00\\x00\\x00\\x00\\x00mimetypePK\\x01\\x02-\\x00\\x14\\x00\\x06\\x00\\x08\\x00\\x00\\x00!\\x00ÀC4®©\\x03\\x00\\x00\\x13\\x0b\\x00\\x00\\n', '\\x00\\x00\\x00\\x00\\x00\\x00\\x00\\x00\\x00\\x00\\x00\\x00\\x00T\\x00\\x00\\x00styles.xmlPK\\x01\\x02-\\x00\\x14\\x00\\x06\\x00\\x08\\x00\\x00\\x00!\\x00\\x08\\x93\\x13ßU\\x05\\x00\\x00õ\\x17\\x00\\x00\\x0b\\x00\\x00\\x00\\x00\\x00\\x00\\x00\\x00\\x00\\x00\\x00\\x00\\x00%\\x04\\x00\\x00content.xmlPK\\x01\\x02-\\x00\\x14\\x00\\x06\\x00\\x08\\x00\\x00\\x00!\\x00\\x87Ê\\x0fñØ\\x00\\x00\\x00\\x14\\x02\\x00\\x00\\x15\\x00\\x00\\x00\\x00\\x00\\x00\\x00\\x00\\x00\\x00\\x00\\x00\\x00£\\t\\x00\\x00META-INF/manifest.xmlPK\\x01\\x02-\\x00\\x14\\x00\\x06\\x00\\x08\\x00\\x00\\x00!\\x00Æ\\x9d4öG\\x01\\x00\\x00\\x86\\x02\\x00\\x00\\x08\\x00\\x00\\x00\\x00\\x00\\x00\\x00\\x00\\x00\\x00\\x00\\x00\\x00®\\n', '\\x00\\x00meta.xmlPK\\x05\\x06\\x00\\x00\\x00\\x00\\x05\\x00\\x05\\x00 \\x01\\x00\\x00\\x1b\\x0c\\x00\\x00\\x00\\x00']\n"
     ]
    }
   ],
   "source": [
    "with open(r'C:\\Users\\ashif\\datascience_notebooks\\datascience_Task_1.xlsx', 'r', encoding='ISO-8859-1') as f:\n",
    "    content = f.readlines()\n",
    "    print(content)"
   ]
  },
  {
   "cell_type": "code",
   "execution_count": 91,
   "id": "38dbe694-1f10-4ab2-966b-7a0df0f98155",
   "metadata": {},
   "outputs": [
    {
     "name": "stdout",
     "output_type": "stream",
     "text": [
      "Defaulting to user installation because normal site-packages is not writeable\n",
      "Requirement already satisfied: pandas in c:\\programdata\\anaconda3\\lib\\site-packages (2.1.4)\n",
      "Requirement already satisfied: numpy<2,>=1.23.2 in c:\\programdata\\anaconda3\\lib\\site-packages (from pandas) (1.26.4)\n",
      "Requirement already satisfied: python-dateutil>=2.8.2 in c:\\programdata\\anaconda3\\lib\\site-packages (from pandas) (2.8.2)\n",
      "Requirement already satisfied: pytz>=2020.1 in c:\\programdata\\anaconda3\\lib\\site-packages (from pandas) (2023.3.post1)\n",
      "Requirement already satisfied: tzdata>=2022.1 in c:\\programdata\\anaconda3\\lib\\site-packages (from pandas) (2023.3)\n",
      "Requirement already satisfied: six>=1.5 in c:\\programdata\\anaconda3\\lib\\site-packages (from python-dateutil>=2.8.2->pandas) (1.16.0)\n",
      "Note: you may need to restart the kernel to use updated packages.\n"
     ]
    }
   ],
   "source": [
    "pip install pandas"
   ]
  },
  {
   "cell_type": "code",
   "execution_count": 92,
   "id": "885aad2a-880d-4a45-a841-cf6d5285f18d",
   "metadata": {},
   "outputs": [
    {
     "name": "stdout",
     "output_type": "stream",
     "text": [
      "Defaulting to user installation because normal site-packages is not writeable\n",
      "Requirement already satisfied: odfpy in c:\\users\\ashif\\appdata\\roaming\\python\\python311\\site-packages (1.4.1)\n",
      "Requirement already satisfied: defusedxml in c:\\programdata\\anaconda3\\lib\\site-packages (from odfpy) (0.7.1)\n",
      "Note: you may need to restart the kernel to use updated packages.\n"
     ]
    }
   ],
   "source": [
    "pip install odfpy"
   ]
  },
  {
   "cell_type": "code",
   "execution_count": 93,
   "id": "b94d5da2-313b-4e7a-b908-88c86df2c24c",
   "metadata": {},
   "outputs": [
    {
     "data": {
      "text/html": [
       "<div>\n",
       "<style scoped>\n",
       "    .dataframe tbody tr th:only-of-type {\n",
       "        vertical-align: middle;\n",
       "    }\n",
       "\n",
       "    .dataframe tbody tr th {\n",
       "        vertical-align: top;\n",
       "    }\n",
       "\n",
       "    .dataframe thead th {\n",
       "        text-align: right;\n",
       "    }\n",
       "</style>\n",
       "<table border=\"1\" class=\"dataframe\">\n",
       "  <thead>\n",
       "    <tr style=\"text-align: right;\">\n",
       "      <th></th>\n",
       "      <th>ADDRES</th>\n",
       "      <th>date</th>\n",
       "      <th>time</th>\n",
       "    </tr>\n",
       "  </thead>\n",
       "  <tbody>\n",
       "    <tr>\n",
       "      <th>0</th>\n",
       "      <td>56th ben colony, btm layout, bangalore 78909</td>\n",
       "      <td>3rd apr 2022</td>\n",
       "      <td>5hr 55 min 8sec</td>\n",
       "    </tr>\n",
       "    <tr>\n",
       "      <th>1</th>\n",
       "      <td>20th stree, johns road, whitefield, bangalore ...</td>\n",
       "      <td>2021-12-06 00:00:00</td>\n",
       "      <td>0.280741</td>\n",
       "    </tr>\n",
       "  </tbody>\n",
       "</table>\n",
       "</div>"
      ],
      "text/plain": [
       "                                              ADDRES                 date  \\\n",
       "0      56th ben colony, btm layout, bangalore 78909          3rd apr 2022   \n",
       "1  20th stree, johns road, whitefield, bangalore ...  2021-12-06 00:00:00   \n",
       "\n",
       "              time  \n",
       "0  5hr 55 min 8sec  \n",
       "1         0.280741  "
      ]
     },
     "execution_count": 93,
     "metadata": {},
     "output_type": "execute_result"
    }
   ],
   "source": [
    "import pandas as pd\n",
    "excel_data = pd.read_excel(r'C:\\Users\\ashif\\datascience_notebooks\\datascience_Task_1.xlsx')\n",
    "excel_data"
   ]
  },
  {
   "cell_type": "code",
   "execution_count": 94,
   "id": "60932532-f46d-4307-b27e-70f86d77cabd",
   "metadata": {},
   "outputs": [
    {
     "data": {
      "text/plain": [
       "(2, 3)"
      ]
     },
     "execution_count": 94,
     "metadata": {},
     "output_type": "execute_result"
    }
   ],
   "source": [
    "excel_data.shape"
   ]
  },
  {
   "cell_type": "code",
   "execution_count": 95,
   "id": "e24ec4e1-7d50-4b69-af24-3b8e2947a0d8",
   "metadata": {},
   "outputs": [
    {
     "data": {
      "text/plain": [
       "3"
      ]
     },
     "execution_count": 95,
     "metadata": {},
     "output_type": "execute_result"
    }
   ],
   "source": [
    "len(excel_data.columns)"
   ]
  },
  {
   "cell_type": "code",
   "execution_count": 96,
   "id": "a56221ee-b398-47ce-aeaf-0f9bbdeaafab",
   "metadata": {},
   "outputs": [
    {
     "data": {
      "text/plain": [
       "<bound method NDFrame.get of                                               ADDRES                 date  \\\n",
       "0      56th ben colony, btm layout, bangalore 78909          3rd apr 2022   \n",
       "1  20th stree, johns road, whitefield, bangalore ...  2021-12-06 00:00:00   \n",
       "\n",
       "              time  \n",
       "0  5hr 55 min 8sec  \n",
       "1         0.280741  >"
      ]
     },
     "execution_count": 96,
     "metadata": {},
     "output_type": "execute_result"
    }
   ],
   "source": [
    "excel_data.get"
   ]
  },
  {
   "cell_type": "code",
   "execution_count": 97,
   "id": "251fe1ff-722b-4cfa-8120-1df832cc881d",
   "metadata": {},
   "outputs": [
    {
     "name": "stdout",
     "output_type": "stream",
     "text": [
      "['56th', 'ben', 'colony,', 'btm', 'layout,', 'bangalore', '78909', '']\n",
      "['3rd', 'apr', '2022']\n",
      "['5hr', '55', 'min', '8sec']\n",
      "{'ADDRES': ['56th', 'ben', 'colony,', 'btm', 'layout,', 'bangalore', '78909', ''], 'date': ['3rd', 'apr', '2022'], 'time': ['5hr', '55', 'min', '8sec']}\n",
      "{'door no': ['56th'], 'street': ['bencolony,'], 'Area': ['btmlayout,'], 'City': ['bangalore'], 'PinCode': ['78909'], 'Day': ['3rd'], 'Month': ['apr'], 'Year': ['2022'], 'hr': ['5hr'], 'min': ['55min'], 'sec': ['8sec']}\n"
     ]
    }
   ],
   "source": [
    "t_dict = {}\n",
    "for col, row in excel_data.items():\n",
    "    # print(col)\n",
    "    row=row[0].split(' ')\n",
    "    print(row)\n",
    "    t_dict[col] = row\n",
    "print(t_dict)\n",
    "data = {'door no':[t_dict['ADDRES'][0]],  \n",
    "        'street':[(t_dict['ADDRES'][1]+t_dict['ADDRES'][2])], \n",
    "        'Area':[(t_dict['ADDRES'][3]+t_dict['ADDRES'][4])], \n",
    "        'City':[t_dict['ADDRES'][5]], \n",
    "        'PinCode':[t_dict['ADDRES'][6]], \n",
    "        'Day':[t_dict['date'][0]], \n",
    "        'Month':[t_dict['date'][1]], \n",
    "        'Year':[t_dict['date'][2]], \n",
    "        'hr':[t_dict['time'][0]], \n",
    "        'min':[(t_dict['time'][1]+t_dict['time'][2])], \n",
    "        'sec':[t_dict['time'][3]]}\n",
    "print(data)\n",
    "df = pd.DataFrame(data)\n",
    "file_path = 'C:\\\\Users\\\\ashif\\\\datascience_notebooks\\\\address.xlsx'\n",
    "df.to_excel(file_path, index=False)"
   ]
  },
  {
   "cell_type": "code",
   "execution_count": 98,
   "id": "70f6a95c-7656-4a61-8ca1-cee4064bbbc9",
   "metadata": {},
   "outputs": [],
   "source": [
    "csv_data = pd.read_csv(r'C:\\Users\\ashif\\datascience_notebooks\\research-and-development-survey-2022.csv', encoding='latin-1')"
   ]
  },
  {
   "cell_type": "code",
   "execution_count": 99,
   "id": "144b361b-9220-4410-a10b-d02c57b014bc",
   "metadata": {},
   "outputs": [
    {
     "data": {
      "text/html": [
       "<div>\n",
       "<style scoped>\n",
       "    .dataframe tbody tr th:only-of-type {\n",
       "        vertical-align: middle;\n",
       "    }\n",
       "\n",
       "    .dataframe tbody tr th {\n",
       "        vertical-align: top;\n",
       "    }\n",
       "\n",
       "    .dataframe thead th {\n",
       "        text-align: right;\n",
       "    }\n",
       "</style>\n",
       "<table border=\"1\" class=\"dataframe\">\n",
       "  <thead>\n",
       "    <tr style=\"text-align: right;\">\n",
       "      <th></th>\n",
       "      <th>Variable</th>\n",
       "      <th>Breakdown</th>\n",
       "      <th>Breakdown_category</th>\n",
       "      <th>Year</th>\n",
       "      <th>RD_Value</th>\n",
       "      <th>Status</th>\n",
       "      <th>Unit</th>\n",
       "      <th>Footnotes</th>\n",
       "      <th>Relative_Sampling_Error</th>\n",
       "    </tr>\n",
       "  </thead>\n",
       "  <tbody>\n",
       "    <tr>\n",
       "      <th>0</th>\n",
       "      <td>_01_Total_RD_Expenditure</td>\n",
       "      <td>ANZSIC_1_Digit</td>\n",
       "      <td>A_Agriculture, Forestry and Fishing</td>\n",
       "      <td>2016</td>\n",
       "      <td>91</td>\n",
       "      <td>NaN</td>\n",
       "      <td>NZ Dollars (millions)</td>\n",
       "      <td>12</td>\n",
       "      <td>23.8</td>\n",
       "    </tr>\n",
       "    <tr>\n",
       "      <th>1</th>\n",
       "      <td>_01_Total_RD_Expenditure</td>\n",
       "      <td>ANZSIC_1_Digit</td>\n",
       "      <td>A_Agriculture, Forestry and Fishing</td>\n",
       "      <td>2018</td>\n",
       "      <td>89</td>\n",
       "      <td>NaN</td>\n",
       "      <td>NZ Dollars (millions)</td>\n",
       "      <td>12</td>\n",
       "      <td>51.7</td>\n",
       "    </tr>\n",
       "    <tr>\n",
       "      <th>2</th>\n",
       "      <td>_01_Total_RD_Expenditure</td>\n",
       "      <td>ANZSIC_1_Digit</td>\n",
       "      <td>A_Agriculture, Forestry and Fishing</td>\n",
       "      <td>2019</td>\n",
       "      <td>...</td>\n",
       "      <td>NaN</td>\n",
       "      <td>NZ Dollars (millions)</td>\n",
       "      <td>12</td>\n",
       "      <td>...</td>\n",
       "    </tr>\n",
       "    <tr>\n",
       "      <th>3</th>\n",
       "      <td>_01_Total_RD_Expenditure</td>\n",
       "      <td>ANZSIC_1_Digit</td>\n",
       "      <td>A_Agriculture, Forestry and Fishing</td>\n",
       "      <td>2020</td>\n",
       "      <td>99</td>\n",
       "      <td>NaN</td>\n",
       "      <td>NZ Dollars (millions)</td>\n",
       "      <td>12</td>\n",
       "      <td>30.2</td>\n",
       "    </tr>\n",
       "    <tr>\n",
       "      <th>4</th>\n",
       "      <td>_01_Total_RD_Expenditure</td>\n",
       "      <td>ANZSIC_1_Digit</td>\n",
       "      <td>A_Agriculture, Forestry and Fishing</td>\n",
       "      <td>2021</td>\n",
       "      <td>...</td>\n",
       "      <td>NaN</td>\n",
       "      <td>NZ Dollars (millions)</td>\n",
       "      <td>12</td>\n",
       "      <td>...</td>\n",
       "    </tr>\n",
       "    <tr>\n",
       "      <th>...</th>\n",
       "      <td>...</td>\n",
       "      <td>...</td>\n",
       "      <td>...</td>\n",
       "      <td>...</td>\n",
       "      <td>...</td>\n",
       "      <td>...</td>\n",
       "      <td>...</td>\n",
       "      <td>...</td>\n",
       "      <td>...</td>\n",
       "    </tr>\n",
       "    <tr>\n",
       "      <th>36559</th>\n",
       "      <td>_95_Total_RD_Expenditure_as_a_proportion_of_GDP</td>\n",
       "      <td>Country</td>\n",
       "      <td>United States</td>\n",
       "      <td>2017</td>\n",
       "      <td>2.9</td>\n",
       "      <td>NaN</td>\n",
       "      <td>Percentage of GDP</td>\n",
       "      <td>33 and 34</td>\n",
       "      <td>..</td>\n",
       "    </tr>\n",
       "    <tr>\n",
       "      <th>36560</th>\n",
       "      <td>_95_Total_RD_Expenditure_as_a_proportion_of_GDP</td>\n",
       "      <td>Country</td>\n",
       "      <td>United States</td>\n",
       "      <td>2018</td>\n",
       "      <td>3.01</td>\n",
       "      <td>NaN</td>\n",
       "      <td>Percentage of GDP</td>\n",
       "      <td>33 and 34</td>\n",
       "      <td>..</td>\n",
       "    </tr>\n",
       "    <tr>\n",
       "      <th>36561</th>\n",
       "      <td>_95_Total_RD_Expenditure_as_a_proportion_of_GDP</td>\n",
       "      <td>Country</td>\n",
       "      <td>United States</td>\n",
       "      <td>2019</td>\n",
       "      <td>3.17</td>\n",
       "      <td>NaN</td>\n",
       "      <td>Percentage of GDP</td>\n",
       "      <td>33 and 34</td>\n",
       "      <td>..</td>\n",
       "    </tr>\n",
       "    <tr>\n",
       "      <th>36562</th>\n",
       "      <td>_95_Total_RD_Expenditure_as_a_proportion_of_GDP</td>\n",
       "      <td>Country</td>\n",
       "      <td>United States</td>\n",
       "      <td>2020</td>\n",
       "      <td>3.47</td>\n",
       "      <td>NaN</td>\n",
       "      <td>Percentage of GDP</td>\n",
       "      <td>33 and 34</td>\n",
       "      <td>..</td>\n",
       "    </tr>\n",
       "    <tr>\n",
       "      <th>36563</th>\n",
       "      <td>_95_Total_RD_Expenditure_as_a_proportion_of_GDP</td>\n",
       "      <td>Country</td>\n",
       "      <td>United States</td>\n",
       "      <td>2021</td>\n",
       "      <td>3.46</td>\n",
       "      <td>NaN</td>\n",
       "      <td>Percentage of GDP</td>\n",
       "      <td>33 and 34</td>\n",
       "      <td>..</td>\n",
       "    </tr>\n",
       "  </tbody>\n",
       "</table>\n",
       "<p>36564 rows × 9 columns</p>\n",
       "</div>"
      ],
      "text/plain": [
       "                                              Variable       Breakdown  \\\n",
       "0                             _01_Total_RD_Expenditure  ANZSIC_1_Digit   \n",
       "1                             _01_Total_RD_Expenditure  ANZSIC_1_Digit   \n",
       "2                             _01_Total_RD_Expenditure  ANZSIC_1_Digit   \n",
       "3                             _01_Total_RD_Expenditure  ANZSIC_1_Digit   \n",
       "4                             _01_Total_RD_Expenditure  ANZSIC_1_Digit   \n",
       "...                                                ...             ...   \n",
       "36559  _95_Total_RD_Expenditure_as_a_proportion_of_GDP         Country   \n",
       "36560  _95_Total_RD_Expenditure_as_a_proportion_of_GDP         Country   \n",
       "36561  _95_Total_RD_Expenditure_as_a_proportion_of_GDP         Country   \n",
       "36562  _95_Total_RD_Expenditure_as_a_proportion_of_GDP         Country   \n",
       "36563  _95_Total_RD_Expenditure_as_a_proportion_of_GDP         Country   \n",
       "\n",
       "                        Breakdown_category  Year RD_Value Status  \\\n",
       "0      A_Agriculture, Forestry and Fishing  2016       91    NaN   \n",
       "1      A_Agriculture, Forestry and Fishing  2018       89    NaN   \n",
       "2      A_Agriculture, Forestry and Fishing  2019      ...    NaN   \n",
       "3      A_Agriculture, Forestry and Fishing  2020       99    NaN   \n",
       "4      A_Agriculture, Forestry and Fishing  2021      ...    NaN   \n",
       "...                                    ...   ...      ...    ...   \n",
       "36559                        United States  2017      2.9    NaN   \n",
       "36560                        United States  2018     3.01    NaN   \n",
       "36561                        United States  2019     3.17    NaN   \n",
       "36562                        United States  2020     3.47    NaN   \n",
       "36563                        United States  2021     3.46    NaN   \n",
       "\n",
       "                        Unit  Footnotes Relative_Sampling_Error  \n",
       "0      NZ Dollars (millions)         12                    23.8  \n",
       "1      NZ Dollars (millions)         12                    51.7  \n",
       "2      NZ Dollars (millions)         12                     ...  \n",
       "3      NZ Dollars (millions)         12                    30.2  \n",
       "4      NZ Dollars (millions)         12                     ...  \n",
       "...                      ...        ...                     ...  \n",
       "36559      Percentage of GDP  33 and 34                      ..  \n",
       "36560      Percentage of GDP  33 and 34                      ..  \n",
       "36561      Percentage of GDP  33 and 34                      ..  \n",
       "36562      Percentage of GDP  33 and 34                      ..  \n",
       "36563      Percentage of GDP  33 and 34                      ..  \n",
       "\n",
       "[36564 rows x 9 columns]"
      ]
     },
     "execution_count": 99,
     "metadata": {},
     "output_type": "execute_result"
    }
   ],
   "source": [
    "csv_data"
   ]
  },
  {
   "cell_type": "code",
   "execution_count": 100,
   "id": "7594c948-bf1a-4208-9e1e-7569496b3759",
   "metadata": {},
   "outputs": [
    {
     "name": "stdout",
     "output_type": "stream",
     "text": [
      "Defaulting to user installation because normal site-packages is not writeable\n",
      "Requirement already satisfied: html5lib in c:\\users\\ashif\\appdata\\roaming\\python\\python311\\site-packages (1.1)\n",
      "Requirement already satisfied: six>=1.9 in c:\\programdata\\anaconda3\\lib\\site-packages (from html5lib) (1.16.0)\n",
      "Requirement already satisfied: webencodings in c:\\programdata\\anaconda3\\lib\\site-packages (from html5lib) (0.5.1)\n",
      "Note: you may need to restart the kernel to use updated packages.\n"
     ]
    }
   ],
   "source": [
    "pip install html5lib"
   ]
  },
  {
   "cell_type": "code",
   "execution_count": 101,
   "id": "b9ed3ffd-731e-4711-9ced-ef2e4cf0b386",
   "metadata": {},
   "outputs": [
    {
     "data": {
      "text/html": [
       "<div>\n",
       "<style scoped>\n",
       "    .dataframe tbody tr th:only-of-type {\n",
       "        vertical-align: middle;\n",
       "    }\n",
       "\n",
       "    .dataframe tbody tr th {\n",
       "        vertical-align: top;\n",
       "    }\n",
       "\n",
       "    .dataframe thead th {\n",
       "        text-align: right;\n",
       "    }\n",
       "</style>\n",
       "<table border=\"1\" class=\"dataframe\">\n",
       "  <thead>\n",
       "    <tr style=\"text-align: right;\">\n",
       "      <th></th>\n",
       "      <th>users</th>\n",
       "    </tr>\n",
       "  </thead>\n",
       "  <tbody>\n",
       "    <tr>\n",
       "      <th>0</th>\n",
       "      <td>{'userId': 1, 'firstName': 'Krish', 'lastName'...</td>\n",
       "    </tr>\n",
       "    <tr>\n",
       "      <th>1</th>\n",
       "      <td>{'userId': 2, 'firstName': 'racks', 'lastName'...</td>\n",
       "    </tr>\n",
       "    <tr>\n",
       "      <th>2</th>\n",
       "      <td>{'userId': 3, 'firstName': 'denial', 'lastName...</td>\n",
       "    </tr>\n",
       "    <tr>\n",
       "      <th>3</th>\n",
       "      <td>{'userId': 4, 'firstName': 'devid', 'lastName'...</td>\n",
       "    </tr>\n",
       "    <tr>\n",
       "      <th>4</th>\n",
       "      <td>{'userId': 5, 'firstName': 'jone', 'lastName':...</td>\n",
       "    </tr>\n",
       "  </tbody>\n",
       "</table>\n",
       "</div>"
      ],
      "text/plain": [
       "                                               users\n",
       "0  {'userId': 1, 'firstName': 'Krish', 'lastName'...\n",
       "1  {'userId': 2, 'firstName': 'racks', 'lastName'...\n",
       "2  {'userId': 3, 'firstName': 'denial', 'lastName...\n",
       "3  {'userId': 4, 'firstName': 'devid', 'lastName'...\n",
       "4  {'userId': 5, 'firstName': 'jone', 'lastName':..."
      ]
     },
     "execution_count": 101,
     "metadata": {},
     "output_type": "execute_result"
    }
   ],
   "source": [
    "pd.read_json(r'C:\\Users\\ashif\\datascience_notebooks\\sample2.json')"
   ]
  },
  {
   "cell_type": "code",
   "execution_count": 102,
   "id": "eb4179ec-2fb2-4690-9e34-cfb625806e61",
   "metadata": {},
   "outputs": [
    {
     "data": {
      "text/plain": [
       "[   Header 1  Header 2  Header 3\n",
       " 0  Data 1-1  Data 1-2  Data 1-3\n",
       " 1  Data 2-1  Data 2-2  Data 2-3]"
      ]
     },
     "execution_count": 102,
     "metadata": {},
     "output_type": "execute_result"
    }
   ],
   "source": [
    "pd.read_html(r'C:\\Users\\ashif\\datascience_notebooks\\sample1.html')"
   ]
  },
  {
   "cell_type": "code",
   "execution_count": null,
   "id": "39bdc41b-b5bf-4342-8a50-b27c7bf8943d",
   "metadata": {},
   "outputs": [],
   "source": []
  }
 ],
 "metadata": {
  "kernelspec": {
   "display_name": "Python 3 (ipykernel)",
   "language": "python",
   "name": "python3"
  },
  "language_info": {
   "codemirror_mode": {
    "name": "ipython",
    "version": 3
   },
   "file_extension": ".py",
   "mimetype": "text/x-python",
   "name": "python",
   "nbconvert_exporter": "python",
   "pygments_lexer": "ipython3",
   "version": "3.11.7"
  }
 },
 "nbformat": 4,
 "nbformat_minor": 5
}
