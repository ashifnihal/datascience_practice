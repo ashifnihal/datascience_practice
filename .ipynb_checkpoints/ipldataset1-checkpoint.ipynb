{
 "cells": [
  {
   "cell_type": "code",
   "execution_count": 2,
   "id": "529c9ccf-3b25-4cda-92ee-e649933bed16",
   "metadata": {},
   "outputs": [],
   "source": [
    "import numpy as np"
   ]
  },
  {
   "cell_type": "code",
   "execution_count": 3,
   "id": "443454e9-36bf-4004-b1f3-3ffd2694636c",
   "metadata": {},
   "outputs": [],
   "source": [
    "#Seasons\n",
    "Seasons = [\"2010\",\"2011\",\"2012\",\"2013\",\"2014\",\"2015\",\"2016\",\"2017\",\"2018\",\"2019\"]\n",
    "Sdict = {\"2010\":0,\"2011\":1,\"2012\":2,\"2013\":3,\"2014\":4,\"2015\":5,\"2016\":6,\"2017\":7,\"2018\":8,\"2019\":9}"
   ]
  },
  {
   "cell_type": "code",
   "execution_count": 4,
   "id": "3b2c1d56-40ca-4312-8b2f-3ea8f003e88f",
   "metadata": {},
   "outputs": [],
   "source": [
    "#Players\n",
    "Players = [\"Sachin\",\"Rahul\",\"Smith\",\"Sami\",\"Pollard\",\"Morris\",\"Samson\",\"Dhoni\",\"Kohli\",\"Sky\"]\n",
    "Pdict = {\"Sachin\":0,\"Rahul\":1,\"Smith\":2,\"Sami\":3,\"Pollard\":4,\"Morris\":5,\"Samson\":6,\"Dhoni\":7,\"Kohli\":8,\"Sky\":9}\n"
   ]
  },
  {
   "cell_type": "code",
   "execution_count": 5,
   "id": "f5e54cf8-e7c9-4f27-a21f-207daecc4b73",
   "metadata": {},
   "outputs": [],
   "source": [
    "#Salaries\n",
    "Sachin_Salary = [15946875,17718750,19490625,21262500,23034375,24806250,25244493,27849149,30453805,23500000]\n",
    "Rahul_Salary = [12000000,12744189,13488377,14232567,14976754,16324500,18038573,19752645,21466718,23180790]\n",
    "Smith_Salary = [4621800,5828090,13041250,14410581,15779912,14500000,16022500,17545000,19067500,20644400]\n",
    "Sami_Salary = [3713640,4694041,13041250,14410581,15779912,17149243,18518574,19450000,22407474,22458000]\n",
    "Pollard_Salary = [4493160,4806720,6061274,13758000,15202590,16647180,18091770,19536360,20513178,21436271]\n",
    "Morris_Salary = [3348000,4235220,12455000,14410581,15779912,14500000,16022500,17545000,19067500,20644400]\n",
    "Samson_Salary = [3144240,3380160,3615960,4574189,13520500,14940153,16359805,17779458,18668431,20068563]\n",
    "Dhoni_Salary = [0,0,4171200,4484040,4796880,6053663,15506632,16669630,17832627,18995624]\n",
    "Kohli_Salary = [0,0,0,4822800,5184480,5546160,6993708,16402500,17632688,18862875]\n",
    "Sky_Salary = [3031920,3841443,13041250,14410581,15779912,14200000,15691000,17182000,18673000,15000000]\n"
   ]
  },
  {
   "cell_type": "code",
   "execution_count": 6,
   "id": "a4a2b9c6-6e41-4822-9fa5-bc945dc29ce8",
   "metadata": {},
   "outputs": [],
   "source": [
    "#Matrix\n",
    "Salary = np.array([Sachin_Salary, Rahul_Salary, Smith_Salary, Sami_Salary, Pollard_Salary, Morris_Salary, Samson_Salary, Dhoni_Salary, Kohli_Salary, Sky_Salary])\n"
   ]
  },
  {
   "cell_type": "code",
   "execution_count": 7,
   "id": "2cd1f63b-9bc4-48d6-9ffa-dd6fabd2135a",
   "metadata": {},
   "outputs": [
    {
     "data": {
      "text/plain": [
       "array([[15946875, 17718750, 19490625, 21262500, 23034375, 24806250,\n",
       "        25244493, 27849149, 30453805, 23500000],\n",
       "       [12000000, 12744189, 13488377, 14232567, 14976754, 16324500,\n",
       "        18038573, 19752645, 21466718, 23180790],\n",
       "       [ 4621800,  5828090, 13041250, 14410581, 15779912, 14500000,\n",
       "        16022500, 17545000, 19067500, 20644400],\n",
       "       [ 3713640,  4694041, 13041250, 14410581, 15779912, 17149243,\n",
       "        18518574, 19450000, 22407474, 22458000],\n",
       "       [ 4493160,  4806720,  6061274, 13758000, 15202590, 16647180,\n",
       "        18091770, 19536360, 20513178, 21436271],\n",
       "       [ 3348000,  4235220, 12455000, 14410581, 15779912, 14500000,\n",
       "        16022500, 17545000, 19067500, 20644400],\n",
       "       [ 3144240,  3380160,  3615960,  4574189, 13520500, 14940153,\n",
       "        16359805, 17779458, 18668431, 20068563],\n",
       "       [       0,        0,  4171200,  4484040,  4796880,  6053663,\n",
       "        15506632, 16669630, 17832627, 18995624],\n",
       "       [       0,        0,        0,  4822800,  5184480,  5546160,\n",
       "         6993708, 16402500, 17632688, 18862875],\n",
       "       [ 3031920,  3841443, 13041250, 14410581, 15779912, 14200000,\n",
       "        15691000, 17182000, 18673000, 15000000]])"
      ]
     },
     "execution_count": 7,
     "metadata": {},
     "output_type": "execute_result"
    }
   ],
   "source": [
    "Salary"
   ]
  },
  {
   "cell_type": "code",
   "execution_count": 8,
   "id": "800fbfbc-f753-412e-bb98-75e1aa9e9114",
   "metadata": {},
   "outputs": [],
   "source": [
    "#Games \n",
    "Sachin_G = [80,77,82,82,73,82,58,78,6,35]\n",
    "Rahul_G = [82,57,82,79,76,72,60,72,79,80]\n",
    "Smith_G = [79,78,75,81,76,79,62,76,77,69]\n",
    "Sami_G = [80,65,77,66,69,77,55,67,77,40]\n",
    "Pollard_G = [82,82,82,79,82,78,54,76,71,41]\n",
    "Morris_G = [70,69,67,77,70,77,57,74,79,44]\n",
    "Samson_G = [78,64,80,78,45,80,60,70,62,82]\n",
    "Dhoni_G = [35,35,80,74,82,78,66,81,81,27]\n",
    "Kohli_G = [40,40,40,81,78,81,39,0,10,51]\n",
    "Sky_G = [75,51,51,79,77,76,49,69,54,62]"
   ]
  },
  {
   "cell_type": "code",
   "execution_count": 9,
   "id": "40960f41-0bd0-4995-b125-d4c419291fef",
   "metadata": {},
   "outputs": [],
   "source": [
    "Games = np.array([Sachin_G, Rahul_G, Smith_G, Sami_G, Pollard_G, Morris_G, Samson_G, Dhoni_G, Kohli_G, Sky_G])"
   ]
  },
  {
   "cell_type": "code",
   "execution_count": 10,
   "id": "c97585f3-f498-448c-8c9e-38646f5221c5",
   "metadata": {},
   "outputs": [
    {
     "data": {
      "text/plain": [
       "array([[80, 77, 82, 82, 73, 82, 58, 78,  6, 35],\n",
       "       [82, 57, 82, 79, 76, 72, 60, 72, 79, 80],\n",
       "       [79, 78, 75, 81, 76, 79, 62, 76, 77, 69],\n",
       "       [80, 65, 77, 66, 69, 77, 55, 67, 77, 40],\n",
       "       [82, 82, 82, 79, 82, 78, 54, 76, 71, 41],\n",
       "       [70, 69, 67, 77, 70, 77, 57, 74, 79, 44],\n",
       "       [78, 64, 80, 78, 45, 80, 60, 70, 62, 82],\n",
       "       [35, 35, 80, 74, 82, 78, 66, 81, 81, 27],\n",
       "       [40, 40, 40, 81, 78, 81, 39,  0, 10, 51],\n",
       "       [75, 51, 51, 79, 77, 76, 49, 69, 54, 62]])"
      ]
     },
     "execution_count": 10,
     "metadata": {},
     "output_type": "execute_result"
    }
   ],
   "source": [
    "Games"
   ]
  },
  {
   "cell_type": "code",
   "execution_count": 11,
   "id": "8fef4776-d288-4800-8206-3c0f8da91545",
   "metadata": {},
   "outputs": [],
   "source": [
    "#Points\n",
    "Sachin_PTS = [2832,2430,2323,2201,1970,2078,1616,2133,83,782]\n",
    "Rahul_PTS = [1653,1426,1779,1688,1619,1312,1129,1170,1245,1154]\n",
    "Smith_PTS = [2478,2132,2250,2304,2258,2111,1683,2036,2089,1743]\n",
    "Sami_PTS = [2122,1881,1978,1504,1943,1970,1245,1920,2112,966]\n",
    "Pollard_PTS = [1292,1443,1695,1624,1503,1784,1113,1296,1297,646]\n",
    "Morris_PTS = [1572,1561,1496,1746,1678,1438,1025,1232,1281,928]\n",
    "Samson_PTS = [1258,1104,1684,1781,841,1268,1189,1186,1185,1564]\n",
    "Dhoni_PTS = [903,903,1624,1871,2472,2161,1850,2280,2593,686]\n",
    "Kohli_PTS = [597,597,597,1361,1619,2026,852,0,159,904]\n",
    "Sky_PTS = [2040,1397,1254,2386,2045,1941,1082,1463,1028,1331]"
   ]
  },
  {
   "cell_type": "code",
   "execution_count": 12,
   "id": "c52510b7-8db6-47fe-bb9e-733e050473f0",
   "metadata": {},
   "outputs": [],
   "source": [
    "#Matrix\n",
    "Points = np.array([Sachin_PTS, Rahul_PTS, Smith_PTS, Sami_PTS, Pollard_PTS, Morris_PTS, Samson_PTS, Dhoni_PTS, Kohli_PTS, Sky_PTS])             \n"
   ]
  },
  {
   "cell_type": "code",
   "execution_count": 13,
   "id": "6b39cddb-2e30-4c2f-97e5-6a9629c4f705",
   "metadata": {},
   "outputs": [
    {
     "data": {
      "text/plain": [
       "array([[2832, 2430, 2323, 2201, 1970, 2078, 1616, 2133,   83,  782],\n",
       "       [1653, 1426, 1779, 1688, 1619, 1312, 1129, 1170, 1245, 1154],\n",
       "       [2478, 2132, 2250, 2304, 2258, 2111, 1683, 2036, 2089, 1743],\n",
       "       [2122, 1881, 1978, 1504, 1943, 1970, 1245, 1920, 2112,  966],\n",
       "       [1292, 1443, 1695, 1624, 1503, 1784, 1113, 1296, 1297,  646],\n",
       "       [1572, 1561, 1496, 1746, 1678, 1438, 1025, 1232, 1281,  928],\n",
       "       [1258, 1104, 1684, 1781,  841, 1268, 1189, 1186, 1185, 1564],\n",
       "       [ 903,  903, 1624, 1871, 2472, 2161, 1850, 2280, 2593,  686],\n",
       "       [ 597,  597,  597, 1361, 1619, 2026,  852,    0,  159,  904],\n",
       "       [2040, 1397, 1254, 2386, 2045, 1941, 1082, 1463, 1028, 1331]])"
      ]
     },
     "execution_count": 13,
     "metadata": {},
     "output_type": "execute_result"
    }
   ],
   "source": [
    "Points"
   ]
  },
  {
   "cell_type": "code",
   "execution_count": 14,
   "id": "ea99e991-9bba-45de-b0bf-b3fe62cde404",
   "metadata": {},
   "outputs": [
    {
     "name": "stdout",
     "output_type": "stream",
     "text": [
      "[ 0  1  2  3  4  5  6  7  8  9 10 11 12 13 14 15 16 17 18 19]\n"
     ]
    }
   ],
   "source": [
    "mydata = np.arange(0, 20)\n",
    "print(mydata)"
   ]
  },
  {
   "cell_type": "code",
   "execution_count": 15,
   "id": "a06ba6ce-acab-4369-aea3-7ca8e8d0434f",
   "metadata": {},
   "outputs": [
    {
     "data": {
      "text/plain": [
       "array([[ 0,  1,  2,  3,  4],\n",
       "       [ 5,  6,  7,  8,  9],\n",
       "       [10, 11, 12, 13, 14],\n",
       "       [15, 16, 17, 18, 19]])"
      ]
     },
     "execution_count": 15,
     "metadata": {},
     "output_type": "execute_result"
    }
   ],
   "source": [
    "np.reshape(mydata, (4, 5))"
   ]
  },
  {
   "cell_type": "code",
   "execution_count": 16,
   "id": "aa43b8ef-1052-4191-97a9-3ba0eee62390",
   "metadata": {},
   "outputs": [
    {
     "data": {
      "text/plain": [
       "array([ 0,  1,  2,  3,  4,  5,  6,  7,  8,  9, 10, 11, 12, 13, 14, 15, 16,\n",
       "       17, 18, 19])"
      ]
     },
     "execution_count": 16,
     "metadata": {},
     "output_type": "execute_result"
    }
   ],
   "source": [
    "mydata"
   ]
  },
  {
   "cell_type": "code",
   "execution_count": 17,
   "id": "0a42403e-de52-4aef-9dad-4007942d3cd9",
   "metadata": {},
   "outputs": [],
   "source": [
    "matr1 = np.reshape(mydata, (5, 4), order='C') #order will be considered for rows"
   ]
  },
  {
   "cell_type": "code",
   "execution_count": 18,
   "id": "6f54f1d6-b7d1-4838-b2e5-003f34089b0f",
   "metadata": {},
   "outputs": [
    {
     "data": {
      "text/plain": [
       "array([[ 0,  1,  2,  3],\n",
       "       [ 4,  5,  6,  7],\n",
       "       [ 8,  9, 10, 11],\n",
       "       [12, 13, 14, 15],\n",
       "       [16, 17, 18, 19]])"
      ]
     },
     "execution_count": 18,
     "metadata": {},
     "output_type": "execute_result"
    }
   ],
   "source": [
    "matr1"
   ]
  },
  {
   "cell_type": "code",
   "execution_count": 19,
   "id": "66ffda40-5e79-4be3-b7a9-4eb68b00c6af",
   "metadata": {},
   "outputs": [
    {
     "data": {
      "text/plain": [
       "19"
      ]
     },
     "execution_count": 19,
     "metadata": {},
     "output_type": "execute_result"
    }
   ],
   "source": [
    "matr1[4,3]"
   ]
  },
  {
   "cell_type": "code",
   "execution_count": 20,
   "id": "6fc72cf5-583e-4872-a403-d0d54d6f09aa",
   "metadata": {},
   "outputs": [
    {
     "data": {
      "text/plain": [
       "15"
      ]
     },
     "execution_count": 20,
     "metadata": {},
     "output_type": "execute_result"
    }
   ],
   "source": [
    "matr1[3,3]"
   ]
  },
  {
   "cell_type": "code",
   "execution_count": 21,
   "id": "61e2f6a8-f9e7-4990-9b36-f15d2134a83b",
   "metadata": {},
   "outputs": [
    {
     "data": {
      "text/plain": [
       "array([[ 0,  1,  2,  3],\n",
       "       [ 4,  5,  6,  7],\n",
       "       [ 8,  9, 10, 11],\n",
       "       [12, 13, 14, 15],\n",
       "       [16, 17, 18, 19]])"
      ]
     },
     "execution_count": 21,
     "metadata": {},
     "output_type": "execute_result"
    }
   ],
   "source": [
    "matr1"
   ]
  },
  {
   "cell_type": "code",
   "execution_count": 22,
   "id": "d05acb48-7274-4c70-99f9-5304c9104858",
   "metadata": {},
   "outputs": [
    {
     "data": {
      "text/plain": [
       "11"
      ]
     },
     "execution_count": 22,
     "metadata": {},
     "output_type": "execute_result"
    }
   ],
   "source": [
    "matr1[-3, -1]"
   ]
  },
  {
   "cell_type": "code",
   "execution_count": 23,
   "id": "9847b8c8-b571-457a-9c30-75fbac88cdc3",
   "metadata": {},
   "outputs": [
    {
     "data": {
      "text/plain": [
       "array([ 0,  1,  2,  3,  4,  5,  6,  7,  8,  9, 10, 11, 12, 13, 14, 15, 16,\n",
       "       17, 18, 19])"
      ]
     },
     "execution_count": 23,
     "metadata": {},
     "output_type": "execute_result"
    }
   ],
   "source": [
    "mydata"
   ]
  },
  {
   "cell_type": "code",
   "execution_count": 24,
   "id": "2197d6a1-39ec-4a81-84a0-e1cba1c4c663",
   "metadata": {},
   "outputs": [],
   "source": [
    "matr2 = np.reshape(mydata, (5, 4), order='F') #order will be considered for columns"
   ]
  },
  {
   "cell_type": "code",
   "execution_count": 25,
   "id": "13a633b7-6ad0-4d2f-9dc0-390cc4304bd2",
   "metadata": {},
   "outputs": [
    {
     "data": {
      "text/plain": [
       "array([[ 0,  5, 10, 15],\n",
       "       [ 1,  6, 11, 16],\n",
       "       [ 2,  7, 12, 17],\n",
       "       [ 3,  8, 13, 18],\n",
       "       [ 4,  9, 14, 19]])"
      ]
     },
     "execution_count": 25,
     "metadata": {},
     "output_type": "execute_result"
    }
   ],
   "source": [
    "matr2"
   ]
  },
  {
   "cell_type": "code",
   "execution_count": 26,
   "id": "73d37465-ab07-40d1-8e43-d5501b03d256",
   "metadata": {},
   "outputs": [
    {
     "data": {
      "text/plain": [
       "19"
      ]
     },
     "execution_count": 26,
     "metadata": {},
     "output_type": "execute_result"
    }
   ],
   "source": [
    "matr2[4,3]"
   ]
  },
  {
   "cell_type": "code",
   "execution_count": 27,
   "id": "aa14dfae-f6ce-4ce6-a19b-976bcafade44",
   "metadata": {},
   "outputs": [
    {
     "data": {
      "text/plain": [
       "17"
      ]
     },
     "execution_count": 27,
     "metadata": {},
     "output_type": "execute_result"
    }
   ],
   "source": [
    "matr2[-3, -1]"
   ]
  },
  {
   "cell_type": "code",
   "execution_count": 28,
   "id": "ae817755-6d70-4ec9-bb05-adf297e66d58",
   "metadata": {},
   "outputs": [
    {
     "data": {
      "text/plain": [
       "10"
      ]
     },
     "execution_count": 28,
     "metadata": {},
     "output_type": "execute_result"
    }
   ],
   "source": [
    "matr2[0,2]"
   ]
  },
  {
   "cell_type": "code",
   "execution_count": 29,
   "id": "7683cf54-3914-499c-9f0d-f48d0a8e6317",
   "metadata": {},
   "outputs": [
    {
     "data": {
      "text/plain": [
       "array([[ 0,  5, 10, 15],\n",
       "       [ 1,  6, 11, 16]])"
      ]
     },
     "execution_count": 29,
     "metadata": {},
     "output_type": "execute_result"
    }
   ],
   "source": [
    "matr2[0:2]"
   ]
  },
  {
   "cell_type": "code",
   "execution_count": 30,
   "id": "124e6bc2-f8f1-40da-ba24-d5ec53629cba",
   "metadata": {},
   "outputs": [
    {
     "data": {
      "text/plain": [
       "array([[ 0,  5, 10, 15],\n",
       "       [ 1,  6, 11, 16],\n",
       "       [ 2,  7, 12, 17],\n",
       "       [ 3,  8, 13, 18],\n",
       "       [ 4,  9, 14, 19]])"
      ]
     },
     "execution_count": 30,
     "metadata": {},
     "output_type": "execute_result"
    }
   ],
   "source": [
    "matr2"
   ]
  },
  {
   "cell_type": "code",
   "execution_count": 31,
   "id": "a03c9731-e45d-4131-b454-28ba983e891c",
   "metadata": {},
   "outputs": [
    {
     "data": {
      "text/plain": [
       "array([[ 1,  6, 11, 16]])"
      ]
     },
     "execution_count": 31,
     "metadata": {},
     "output_type": "execute_result"
    }
   ],
   "source": [
    "matr2[1:2]"
   ]
  },
  {
   "cell_type": "code",
   "execution_count": 32,
   "id": "c0422fc8-6093-498a-ac68-2ddbd38884d1",
   "metadata": {},
   "outputs": [
    {
     "data": {
      "text/plain": [
       "11"
      ]
     },
     "execution_count": 32,
     "metadata": {},
     "output_type": "execute_result"
    }
   ],
   "source": [
    "matr2[1,2]"
   ]
  },
  {
   "cell_type": "code",
   "execution_count": 33,
   "id": "b4eb026b-06bf-4c2f-a52c-ce04c61851ae",
   "metadata": {},
   "outputs": [
    {
     "data": {
      "text/plain": [
       "array([[ 0,  5, 10, 15],\n",
       "       [ 1,  6, 11, 16],\n",
       "       [ 2,  7, 12, 17],\n",
       "       [ 3,  8, 13, 18],\n",
       "       [ 4,  9, 14, 19]])"
      ]
     },
     "execution_count": 33,
     "metadata": {},
     "output_type": "execute_result"
    }
   ],
   "source": [
    "matr2"
   ]
  },
  {
   "cell_type": "code",
   "execution_count": 34,
   "id": "102b4955-bc35-4b14-bb59-663f2f4567e2",
   "metadata": {},
   "outputs": [
    {
     "data": {
      "text/plain": [
       "array([[ 3,  8, 13, 18]])"
      ]
     },
     "execution_count": 34,
     "metadata": {},
     "output_type": "execute_result"
    }
   ],
   "source": [
    "matr2[-2:-1]"
   ]
  },
  {
   "cell_type": "code",
   "execution_count": 35,
   "id": "db35133f-710e-4ea1-8937-888fb1ecf3b5",
   "metadata": {},
   "outputs": [
    {
     "data": {
      "text/plain": [
       "array([[ 0,  5, 10, 15],\n",
       "       [ 1,  6, 11, 16],\n",
       "       [ 2,  7, 12, 17],\n",
       "       [ 3,  8, 13, 18],\n",
       "       [ 4,  9, 14, 19]])"
      ]
     },
     "execution_count": 35,
     "metadata": {},
     "output_type": "execute_result"
    }
   ],
   "source": [
    "matr2"
   ]
  },
  {
   "cell_type": "code",
   "execution_count": 36,
   "id": "8cb44e7b-2922-484b-bbba-9595b912b4a7",
   "metadata": {},
   "outputs": [
    {
     "data": {
      "text/plain": [
       "18"
      ]
     },
     "execution_count": 36,
     "metadata": {},
     "output_type": "execute_result"
    }
   ],
   "source": [
    "matr2[-2, -1]"
   ]
  },
  {
   "cell_type": "code",
   "execution_count": 37,
   "id": "7e8ca4eb-96d4-4ba3-8e7d-2105db70ef1f",
   "metadata": {},
   "outputs": [
    {
     "data": {
      "text/plain": [
       "array([ 0,  1,  2,  3,  4,  5,  6,  7,  8,  9, 10, 11, 12, 13, 14, 15, 16,\n",
       "       17, 18, 19])"
      ]
     },
     "execution_count": 37,
     "metadata": {},
     "output_type": "execute_result"
    }
   ],
   "source": [
    "mydata"
   ]
  },
  {
   "cell_type": "code",
   "execution_count": 38,
   "id": "91233f55-423c-4d9b-ac60-81bbf448481b",
   "metadata": {},
   "outputs": [],
   "source": [
    "matr3 = np.reshape(mydata, (5, 4), order='A')"
   ]
  },
  {
   "cell_type": "code",
   "execution_count": 39,
   "id": "bf835d1f-6474-4392-9434-fad9805974ae",
   "metadata": {},
   "outputs": [
    {
     "data": {
      "text/plain": [
       "array([[ 0,  1,  2,  3],\n",
       "       [ 4,  5,  6,  7],\n",
       "       [ 8,  9, 10, 11],\n",
       "       [12, 13, 14, 15],\n",
       "       [16, 17, 18, 19]])"
      ]
     },
     "execution_count": 39,
     "metadata": {},
     "output_type": "execute_result"
    }
   ],
   "source": [
    "matr3"
   ]
  },
  {
   "cell_type": "code",
   "execution_count": 40,
   "id": "d3a7f2b5-bdfa-4ce0-8148-5269b908c578",
   "metadata": {},
   "outputs": [
    {
     "data": {
      "text/plain": [
       "array([[80, 77, 82, 82, 73, 82, 58, 78,  6, 35],\n",
       "       [82, 57, 82, 79, 76, 72, 60, 72, 79, 80],\n",
       "       [79, 78, 75, 81, 76, 79, 62, 76, 77, 69],\n",
       "       [80, 65, 77, 66, 69, 77, 55, 67, 77, 40],\n",
       "       [82, 82, 82, 79, 82, 78, 54, 76, 71, 41],\n",
       "       [70, 69, 67, 77, 70, 77, 57, 74, 79, 44],\n",
       "       [78, 64, 80, 78, 45, 80, 60, 70, 62, 82],\n",
       "       [35, 35, 80, 74, 82, 78, 66, 81, 81, 27],\n",
       "       [40, 40, 40, 81, 78, 81, 39,  0, 10, 51],\n",
       "       [75, 51, 51, 79, 77, 76, 49, 69, 54, 62]])"
      ]
     },
     "execution_count": 40,
     "metadata": {},
     "output_type": "execute_result"
    }
   ],
   "source": [
    "Games"
   ]
  },
  {
   "cell_type": "code",
   "execution_count": 41,
   "id": "cd794b68-392a-4fc2-81fd-abe93a346afa",
   "metadata": {},
   "outputs": [
    {
     "data": {
      "text/plain": [
       "array([80, 77, 82, 82, 73, 82, 58, 78,  6, 35])"
      ]
     },
     "execution_count": 41,
     "metadata": {},
     "output_type": "execute_result"
    }
   ],
   "source": [
    "Games[0]"
   ]
  },
  {
   "cell_type": "code",
   "execution_count": 42,
   "id": "05df772b-2800-4fc6-bf2d-18633ee965f3",
   "metadata": {},
   "outputs": [
    {
     "data": {
      "text/plain": [
       "array([70, 69, 67, 77, 70, 77, 57, 74, 79, 44])"
      ]
     },
     "execution_count": 42,
     "metadata": {},
     "output_type": "execute_result"
    }
   ],
   "source": [
    "Games[5]"
   ]
  },
  {
   "cell_type": "code",
   "execution_count": 43,
   "id": "576bedce-da77-4d92-9283-be12b32bded6",
   "metadata": {},
   "outputs": [
    {
     "data": {
      "text/plain": [
       "array([[80, 77, 82, 82, 73, 82, 58, 78,  6, 35],\n",
       "       [82, 57, 82, 79, 76, 72, 60, 72, 79, 80],\n",
       "       [79, 78, 75, 81, 76, 79, 62, 76, 77, 69],\n",
       "       [80, 65, 77, 66, 69, 77, 55, 67, 77, 40],\n",
       "       [82, 82, 82, 79, 82, 78, 54, 76, 71, 41]])"
      ]
     },
     "execution_count": 43,
     "metadata": {},
     "output_type": "execute_result"
    }
   ],
   "source": [
    "Games[0:5]"
   ]
  },
  {
   "cell_type": "code",
   "execution_count": 44,
   "id": "fbe4c640-7508-4dea-b150-fe1946a55b79",
   "metadata": {},
   "outputs": [
    {
     "data": {
      "text/plain": [
       "82"
      ]
     },
     "execution_count": 44,
     "metadata": {},
     "output_type": "execute_result"
    }
   ],
   "source": [
    "Games[0,2]"
   ]
  },
  {
   "cell_type": "code",
   "execution_count": 45,
   "id": "20d76018-82ea-4973-aa5c-8f5965c7afbf",
   "metadata": {},
   "outputs": [
    {
     "data": {
      "text/plain": [
       "array([[80, 77, 82, 82, 73, 82, 58, 78,  6, 35],\n",
       "       [82, 57, 82, 79, 76, 72, 60, 72, 79, 80],\n",
       "       [79, 78, 75, 81, 76, 79, 62, 76, 77, 69],\n",
       "       [80, 65, 77, 66, 69, 77, 55, 67, 77, 40],\n",
       "       [82, 82, 82, 79, 82, 78, 54, 76, 71, 41],\n",
       "       [70, 69, 67, 77, 70, 77, 57, 74, 79, 44],\n",
       "       [78, 64, 80, 78, 45, 80, 60, 70, 62, 82],\n",
       "       [35, 35, 80, 74, 82, 78, 66, 81, 81, 27],\n",
       "       [40, 40, 40, 81, 78, 81, 39,  0, 10, 51],\n",
       "       [75, 51, 51, 79, 77, 76, 49, 69, 54, 62]])"
      ]
     },
     "execution_count": 45,
     "metadata": {},
     "output_type": "execute_result"
    }
   ],
   "source": [
    "Games"
   ]
  },
  {
   "cell_type": "code",
   "execution_count": 46,
   "id": "336c1020-4774-4485-b73e-3a5a49db6c41",
   "metadata": {},
   "outputs": [
    {
     "data": {
      "text/plain": [
       "array([[82, 57, 82, 79, 76, 72, 60, 72, 79, 80]])"
      ]
     },
     "execution_count": 46,
     "metadata": {},
     "output_type": "execute_result"
    }
   ],
   "source": [
    "Games[1:2]"
   ]
  },
  {
   "cell_type": "code",
   "execution_count": 47,
   "id": "1680c392-bc0a-4b53-a659-19185e74381d",
   "metadata": {},
   "outputs": [
    {
     "data": {
      "text/plain": [
       "array([79, 78, 75, 81, 76, 79, 62, 76, 77, 69])"
      ]
     },
     "execution_count": 47,
     "metadata": {},
     "output_type": "execute_result"
    }
   ],
   "source": [
    "Games[2]"
   ]
  },
  {
   "cell_type": "code",
   "execution_count": 48,
   "id": "0404b5b7-69db-4bfd-b15a-752b0b146cec",
   "metadata": {},
   "outputs": [
    {
     "data": {
      "text/plain": [
       "array([[80, 77, 82, 82, 73, 82, 58, 78,  6, 35],\n",
       "       [82, 57, 82, 79, 76, 72, 60, 72, 79, 80],\n",
       "       [79, 78, 75, 81, 76, 79, 62, 76, 77, 69],\n",
       "       [80, 65, 77, 66, 69, 77, 55, 67, 77, 40],\n",
       "       [82, 82, 82, 79, 82, 78, 54, 76, 71, 41],\n",
       "       [70, 69, 67, 77, 70, 77, 57, 74, 79, 44],\n",
       "       [78, 64, 80, 78, 45, 80, 60, 70, 62, 82],\n",
       "       [35, 35, 80, 74, 82, 78, 66, 81, 81, 27],\n",
       "       [40, 40, 40, 81, 78, 81, 39,  0, 10, 51],\n",
       "       [75, 51, 51, 79, 77, 76, 49, 69, 54, 62]])"
      ]
     },
     "execution_count": 48,
     "metadata": {},
     "output_type": "execute_result"
    }
   ],
   "source": [
    "Games"
   ]
  },
  {
   "cell_type": "code",
   "execution_count": 49,
   "id": "5a17160f-e191-42da-a335-ccdcd970d871",
   "metadata": {},
   "outputs": [
    {
     "data": {
      "text/plain": [
       "77"
      ]
     },
     "execution_count": 49,
     "metadata": {},
     "output_type": "execute_result"
    }
   ],
   "source": [
    "Games[2, 8]"
   ]
  },
  {
   "cell_type": "code",
   "execution_count": 50,
   "id": "2e7479f7-aedf-4863-ac45-9f8532e5e0fd",
   "metadata": {},
   "outputs": [
    {
     "data": {
      "text/plain": [
       "array([[80, 77, 82, 82, 73, 82, 58, 78,  6, 35],\n",
       "       [82, 57, 82, 79, 76, 72, 60, 72, 79, 80],\n",
       "       [79, 78, 75, 81, 76, 79, 62, 76, 77, 69],\n",
       "       [80, 65, 77, 66, 69, 77, 55, 67, 77, 40],\n",
       "       [82, 82, 82, 79, 82, 78, 54, 76, 71, 41],\n",
       "       [70, 69, 67, 77, 70, 77, 57, 74, 79, 44],\n",
       "       [78, 64, 80, 78, 45, 80, 60, 70, 62, 82],\n",
       "       [35, 35, 80, 74, 82, 78, 66, 81, 81, 27],\n",
       "       [40, 40, 40, 81, 78, 81, 39,  0, 10, 51],\n",
       "       [75, 51, 51, 79, 77, 76, 49, 69, 54, 62]])"
      ]
     },
     "execution_count": 50,
     "metadata": {},
     "output_type": "execute_result"
    }
   ],
   "source": [
    "Games"
   ]
  },
  {
   "cell_type": "code",
   "execution_count": 51,
   "id": "96b8b3a2-872e-4d78-8b37-793dd5b1692d",
   "metadata": {},
   "outputs": [
    {
     "data": {
      "text/plain": [
       "27"
      ]
     },
     "execution_count": 51,
     "metadata": {},
     "output_type": "execute_result"
    }
   ],
   "source": [
    "Games[-3, -1]"
   ]
  },
  {
   "cell_type": "code",
   "execution_count": 52,
   "id": "d2ea4e1c-9f86-405e-8738-ba5802b15db2",
   "metadata": {},
   "outputs": [
    {
     "data": {
      "text/plain": [
       "array([[2832, 2430, 2323, 2201, 1970, 2078, 1616, 2133,   83,  782],\n",
       "       [1653, 1426, 1779, 1688, 1619, 1312, 1129, 1170, 1245, 1154],\n",
       "       [2478, 2132, 2250, 2304, 2258, 2111, 1683, 2036, 2089, 1743],\n",
       "       [2122, 1881, 1978, 1504, 1943, 1970, 1245, 1920, 2112,  966],\n",
       "       [1292, 1443, 1695, 1624, 1503, 1784, 1113, 1296, 1297,  646],\n",
       "       [1572, 1561, 1496, 1746, 1678, 1438, 1025, 1232, 1281,  928],\n",
       "       [1258, 1104, 1684, 1781,  841, 1268, 1189, 1186, 1185, 1564],\n",
       "       [ 903,  903, 1624, 1871, 2472, 2161, 1850, 2280, 2593,  686],\n",
       "       [ 597,  597,  597, 1361, 1619, 2026,  852,    0,  159,  904],\n",
       "       [2040, 1397, 1254, 2386, 2045, 1941, 1082, 1463, 1028, 1331]])"
      ]
     },
     "execution_count": 52,
     "metadata": {},
     "output_type": "execute_result"
    }
   ],
   "source": [
    "Points"
   ]
  },
  {
   "cell_type": "code",
   "execution_count": 53,
   "id": "cb6067d8-19d1-4e7b-ab98-300e7be156c3",
   "metadata": {},
   "outputs": [
    {
     "data": {
      "text/plain": [
       "array([2832, 2430, 2323, 2201, 1970, 2078, 1616, 2133,   83,  782])"
      ]
     },
     "execution_count": 53,
     "metadata": {},
     "output_type": "execute_result"
    }
   ],
   "source": [
    "Points[0]"
   ]
  },
  {
   "cell_type": "code",
   "execution_count": 54,
   "id": "cb7016e6-fe8e-4420-8fb6-c9bed075d5f6",
   "metadata": {},
   "outputs": [
    {
     "data": {
      "text/plain": [
       "array([[2832, 2430, 2323, 2201, 1970, 2078, 1616, 2133,   83,  782],\n",
       "       [1653, 1426, 1779, 1688, 1619, 1312, 1129, 1170, 1245, 1154],\n",
       "       [2478, 2132, 2250, 2304, 2258, 2111, 1683, 2036, 2089, 1743],\n",
       "       [2122, 1881, 1978, 1504, 1943, 1970, 1245, 1920, 2112,  966],\n",
       "       [1292, 1443, 1695, 1624, 1503, 1784, 1113, 1296, 1297,  646],\n",
       "       [1572, 1561, 1496, 1746, 1678, 1438, 1025, 1232, 1281,  928],\n",
       "       [1258, 1104, 1684, 1781,  841, 1268, 1189, 1186, 1185, 1564],\n",
       "       [ 903,  903, 1624, 1871, 2472, 2161, 1850, 2280, 2593,  686],\n",
       "       [ 597,  597,  597, 1361, 1619, 2026,  852,    0,  159,  904],\n",
       "       [2040, 1397, 1254, 2386, 2045, 1941, 1082, 1463, 1028, 1331]])"
      ]
     },
     "execution_count": 54,
     "metadata": {},
     "output_type": "execute_result"
    }
   ],
   "source": [
    "Points"
   ]
  },
  {
   "cell_type": "code",
   "execution_count": 55,
   "id": "8e8a19aa-80df-426c-b8c9-df24bbecee42",
   "metadata": {},
   "outputs": [
    {
     "data": {
      "text/plain": [
       "1104"
      ]
     },
     "execution_count": 55,
     "metadata": {},
     "output_type": "execute_result"
    }
   ],
   "source": [
    "Points[6,1]"
   ]
  },
  {
   "cell_type": "code",
   "execution_count": 56,
   "id": "6245ad82-0784-4226-896a-8ffda97e1611",
   "metadata": {},
   "outputs": [
    {
     "data": {
      "text/plain": [
       "array([[2832, 2430, 2323, 2201, 1970, 2078, 1616, 2133,   83,  782],\n",
       "       [1653, 1426, 1779, 1688, 1619, 1312, 1129, 1170, 1245, 1154],\n",
       "       [2478, 2132, 2250, 2304, 2258, 2111, 1683, 2036, 2089, 1743],\n",
       "       [2122, 1881, 1978, 1504, 1943, 1970, 1245, 1920, 2112,  966],\n",
       "       [1292, 1443, 1695, 1624, 1503, 1784, 1113, 1296, 1297,  646],\n",
       "       [1572, 1561, 1496, 1746, 1678, 1438, 1025, 1232, 1281,  928],\n",
       "       [1258, 1104, 1684, 1781,  841, 1268, 1189, 1186, 1185, 1564],\n",
       "       [ 903,  903, 1624, 1871, 2472, 2161, 1850, 2280, 2593,  686],\n",
       "       [ 597,  597,  597, 1361, 1619, 2026,  852,    0,  159,  904],\n",
       "       [2040, 1397, 1254, 2386, 2045, 1941, 1082, 1463, 1028, 1331]])"
      ]
     },
     "execution_count": 56,
     "metadata": {},
     "output_type": "execute_result"
    }
   ],
   "source": [
    "Points"
   ]
  },
  {
   "cell_type": "code",
   "execution_count": 57,
   "id": "66e8bb50-7343-49ec-886a-3100b30923da",
   "metadata": {},
   "outputs": [
    {
     "data": {
      "text/plain": [
       "646"
      ]
     },
     "execution_count": 57,
     "metadata": {},
     "output_type": "execute_result"
    }
   ],
   "source": [
    "Points[-6, -1]"
   ]
  },
  {
   "cell_type": "code",
   "execution_count": 58,
   "id": "38f24e78-5eb8-4f30-a2c3-b03aac759b87",
   "metadata": {},
   "outputs": [
    {
     "data": {
      "text/plain": [
       "array([[80, 77, 82, 82, 73, 82, 58, 78,  6, 35],\n",
       "       [82, 57, 82, 79, 76, 72, 60, 72, 79, 80],\n",
       "       [79, 78, 75, 81, 76, 79, 62, 76, 77, 69],\n",
       "       [80, 65, 77, 66, 69, 77, 55, 67, 77, 40],\n",
       "       [82, 82, 82, 79, 82, 78, 54, 76, 71, 41],\n",
       "       [70, 69, 67, 77, 70, 77, 57, 74, 79, 44],\n",
       "       [78, 64, 80, 78, 45, 80, 60, 70, 62, 82],\n",
       "       [35, 35, 80, 74, 82, 78, 66, 81, 81, 27],\n",
       "       [40, 40, 40, 81, 78, 81, 39,  0, 10, 51],\n",
       "       [75, 51, 51, 79, 77, 76, 49, 69, 54, 62]])"
      ]
     },
     "execution_count": 58,
     "metadata": {},
     "output_type": "execute_result"
    }
   ],
   "source": [
    "Games"
   ]
  },
  {
   "cell_type": "code",
   "execution_count": 59,
   "id": "b2ad5190-d728-4d8d-87f9-eb01eb838835",
   "metadata": {},
   "outputs": [
    {
     "data": {
      "text/plain": [
       "{'Sachin': 0,\n",
       " 'Rahul': 1,\n",
       " 'Smith': 2,\n",
       " 'Sami': 3,\n",
       " 'Pollard': 4,\n",
       " 'Morris': 5,\n",
       " 'Samson': 6,\n",
       " 'Dhoni': 7,\n",
       " 'Kohli': 8,\n",
       " 'Sky': 9}"
      ]
     },
     "execution_count": 59,
     "metadata": {},
     "output_type": "execute_result"
    }
   ],
   "source": [
    "Pdict"
   ]
  },
  {
   "cell_type": "code",
   "execution_count": 60,
   "id": "6784aed3-23cb-4ded-8fb1-2d4baa2b8980",
   "metadata": {},
   "outputs": [
    {
     "data": {
      "text/plain": [
       "0"
      ]
     },
     "execution_count": 60,
     "metadata": {},
     "output_type": "execute_result"
    }
   ],
   "source": [
    "Pdict['Sachin']"
   ]
  },
  {
   "cell_type": "code",
   "execution_count": 61,
   "id": "e1f83ea8-d70d-4314-a034-9d60f7812059",
   "metadata": {},
   "outputs": [
    {
     "data": {
      "text/plain": [
       "array([80, 77, 82, 82, 73, 82, 58, 78,  6, 35])"
      ]
     },
     "execution_count": 61,
     "metadata": {},
     "output_type": "execute_result"
    }
   ],
   "source": [
    "Games[0]"
   ]
  },
  {
   "cell_type": "code",
   "execution_count": 62,
   "id": "366dd88d-8d07-4eac-9bd1-b58a1c134e64",
   "metadata": {},
   "outputs": [
    {
     "data": {
      "text/plain": [
       "7"
      ]
     },
     "execution_count": 62,
     "metadata": {},
     "output_type": "execute_result"
    }
   ],
   "source": [
    "Pdict['Dhoni']"
   ]
  },
  {
   "cell_type": "code",
   "execution_count": 63,
   "id": "a5615ded-3cc9-4104-a271-6820a21cb168",
   "metadata": {},
   "outputs": [
    {
     "data": {
      "text/plain": [
       "array([35, 35, 80, 74, 82, 78, 66, 81, 81, 27])"
      ]
     },
     "execution_count": 63,
     "metadata": {},
     "output_type": "execute_result"
    }
   ],
   "source": [
    "Games[7]"
   ]
  },
  {
   "cell_type": "code",
   "execution_count": 64,
   "id": "35675423-1fbc-460a-8a7e-2621d190f470",
   "metadata": {},
   "outputs": [
    {
     "data": {
      "text/plain": [
       "1"
      ]
     },
     "execution_count": 64,
     "metadata": {},
     "output_type": "execute_result"
    }
   ],
   "source": [
    "Pdict['Rahul']"
   ]
  },
  {
   "cell_type": "code",
   "execution_count": 65,
   "id": "8a309f52-55a4-4fee-bfaf-2789210057f9",
   "metadata": {},
   "outputs": [
    {
     "data": {
      "text/plain": [
       "array([82, 57, 82, 79, 76, 72, 60, 72, 79, 80])"
      ]
     },
     "execution_count": 65,
     "metadata": {},
     "output_type": "execute_result"
    }
   ],
   "source": [
    "Games[1]"
   ]
  },
  {
   "cell_type": "code",
   "execution_count": 66,
   "id": "d3c62766-aaa1-4f41-9007-ed9e682f7394",
   "metadata": {},
   "outputs": [
    {
     "data": {
      "text/plain": [
       "array([82, 57, 82, 79, 76, 72, 60, 72, 79, 80])"
      ]
     },
     "execution_count": 66,
     "metadata": {},
     "output_type": "execute_result"
    }
   ],
   "source": [
    "Games[Pdict['Rahul']]"
   ]
  },
  {
   "cell_type": "code",
   "execution_count": 67,
   "id": "45a81b83-4990-4868-9c9e-d58d3e94c84c",
   "metadata": {},
   "outputs": [
    {
     "data": {
      "text/plain": [
       "array([[2832, 2430, 2323, 2201, 1970, 2078, 1616, 2133,   83,  782],\n",
       "       [1653, 1426, 1779, 1688, 1619, 1312, 1129, 1170, 1245, 1154],\n",
       "       [2478, 2132, 2250, 2304, 2258, 2111, 1683, 2036, 2089, 1743],\n",
       "       [2122, 1881, 1978, 1504, 1943, 1970, 1245, 1920, 2112,  966],\n",
       "       [1292, 1443, 1695, 1624, 1503, 1784, 1113, 1296, 1297,  646],\n",
       "       [1572, 1561, 1496, 1746, 1678, 1438, 1025, 1232, 1281,  928],\n",
       "       [1258, 1104, 1684, 1781,  841, 1268, 1189, 1186, 1185, 1564],\n",
       "       [ 903,  903, 1624, 1871, 2472, 2161, 1850, 2280, 2593,  686],\n",
       "       [ 597,  597,  597, 1361, 1619, 2026,  852,    0,  159,  904],\n",
       "       [2040, 1397, 1254, 2386, 2045, 1941, 1082, 1463, 1028, 1331]])"
      ]
     },
     "execution_count": 67,
     "metadata": {},
     "output_type": "execute_result"
    }
   ],
   "source": [
    "Points"
   ]
  },
  {
   "cell_type": "code",
   "execution_count": 68,
   "id": "79465163-7a64-4cb7-8849-0a3d06e98ba5",
   "metadata": {},
   "outputs": [
    {
     "data": {
      "text/plain": [
       "array([[15946875, 17718750, 19490625, 21262500, 23034375, 24806250,\n",
       "        25244493, 27849149, 30453805, 23500000],\n",
       "       [12000000, 12744189, 13488377, 14232567, 14976754, 16324500,\n",
       "        18038573, 19752645, 21466718, 23180790],\n",
       "       [ 4621800,  5828090, 13041250, 14410581, 15779912, 14500000,\n",
       "        16022500, 17545000, 19067500, 20644400],\n",
       "       [ 3713640,  4694041, 13041250, 14410581, 15779912, 17149243,\n",
       "        18518574, 19450000, 22407474, 22458000],\n",
       "       [ 4493160,  4806720,  6061274, 13758000, 15202590, 16647180,\n",
       "        18091770, 19536360, 20513178, 21436271],\n",
       "       [ 3348000,  4235220, 12455000, 14410581, 15779912, 14500000,\n",
       "        16022500, 17545000, 19067500, 20644400],\n",
       "       [ 3144240,  3380160,  3615960,  4574189, 13520500, 14940153,\n",
       "        16359805, 17779458, 18668431, 20068563],\n",
       "       [       0,        0,  4171200,  4484040,  4796880,  6053663,\n",
       "        15506632, 16669630, 17832627, 18995624],\n",
       "       [       0,        0,        0,  4822800,  5184480,  5546160,\n",
       "         6993708, 16402500, 17632688, 18862875],\n",
       "       [ 3031920,  3841443, 13041250, 14410581, 15779912, 14200000,\n",
       "        15691000, 17182000, 18673000, 15000000]])"
      ]
     },
     "execution_count": 68,
     "metadata": {},
     "output_type": "execute_result"
    }
   ],
   "source": [
    "Salary"
   ]
  },
  {
   "cell_type": "code",
   "execution_count": 69,
   "id": "c6ad60e7-a51c-4307-a51b-890612dd1c36",
   "metadata": {},
   "outputs": [
    {
     "data": {
      "text/plain": [
       "array([15946875, 17718750, 19490625, 21262500, 23034375, 24806250,\n",
       "       25244493, 27849149, 30453805, 23500000])"
      ]
     },
     "execution_count": 69,
     "metadata": {},
     "output_type": "execute_result"
    }
   ],
   "source": [
    "Salary[Pdict['Sachin']]"
   ]
  },
  {
   "cell_type": "code",
   "execution_count": 70,
   "id": "492b660a-cfa6-49bf-838d-d19e3c61bea7",
   "metadata": {},
   "outputs": [
    {
     "data": {
      "text/plain": [
       "23180790"
      ]
     },
     "execution_count": 70,
     "metadata": {},
     "output_type": "execute_result"
    }
   ],
   "source": [
    "Salary[Pdict['Rahul'], -1]"
   ]
  },
  {
   "cell_type": "code",
   "execution_count": 71,
   "id": "6b0dc750-9945-4739-a24a-8db3ca8eb600",
   "metadata": {},
   "outputs": [
    {
     "data": {
      "text/plain": [
       "{'Sachin': 0,\n",
       " 'Rahul': 1,\n",
       " 'Smith': 2,\n",
       " 'Sami': 3,\n",
       " 'Pollard': 4,\n",
       " 'Morris': 5,\n",
       " 'Samson': 6,\n",
       " 'Dhoni': 7,\n",
       " 'Kohli': 8,\n",
       " 'Sky': 9}"
      ]
     },
     "execution_count": 71,
     "metadata": {},
     "output_type": "execute_result"
    }
   ],
   "source": [
    "Pdict"
   ]
  },
  {
   "cell_type": "code",
   "execution_count": 72,
   "id": "51dcda4c-e6b6-4555-ba3e-6b0d0d6d95e6",
   "metadata": {},
   "outputs": [
    {
     "data": {
      "text/plain": [
       "{'2010': 0,\n",
       " '2011': 1,\n",
       " '2012': 2,\n",
       " '2013': 3,\n",
       " '2014': 4,\n",
       " '2015': 5,\n",
       " '2016': 6,\n",
       " '2017': 7,\n",
       " '2018': 8,\n",
       " '2019': 9}"
      ]
     },
     "execution_count": 72,
     "metadata": {},
     "output_type": "execute_result"
    }
   ],
   "source": [
    "Sdict"
   ]
  },
  {
   "cell_type": "code",
   "execution_count": 73,
   "id": "6ff8407c-a01b-4849-986f-bb7f2a382379",
   "metadata": {},
   "outputs": [
    {
     "data": {
      "text/plain": [
       "16324500"
      ]
     },
     "execution_count": 73,
     "metadata": {},
     "output_type": "execute_result"
    }
   ],
   "source": [
    "Salary[Pdict['Rahul'], Sdict['2015']]"
   ]
  },
  {
   "cell_type": "code",
   "execution_count": 74,
   "id": "ac135af4-0e83-4456-8430-9bb8ab1cde77",
   "metadata": {},
   "outputs": [
    {
     "data": {
      "text/plain": [
       "{'2010': 0,\n",
       " '2011': 1,\n",
       " '2012': 2,\n",
       " '2013': 3,\n",
       " '2014': 4,\n",
       " '2015': 5,\n",
       " '2016': 6,\n",
       " '2017': 7,\n",
       " '2018': 8,\n",
       " '2019': 9}"
      ]
     },
     "execution_count": 74,
     "metadata": {},
     "output_type": "execute_result"
    }
   ],
   "source": [
    "Sdict"
   ]
  },
  {
   "cell_type": "code",
   "execution_count": 75,
   "id": "5538e347-d8d2-4042-9292-52bd510295bf",
   "metadata": {},
   "outputs": [
    {
     "data": {
      "text/plain": [
       "{'Sachin': 0,\n",
       " 'Rahul': 1,\n",
       " 'Smith': 2,\n",
       " 'Sami': 3,\n",
       " 'Pollard': 4,\n",
       " 'Morris': 5,\n",
       " 'Samson': 6,\n",
       " 'Dhoni': 7,\n",
       " 'Kohli': 8,\n",
       " 'Sky': 9}"
      ]
     },
     "execution_count": 75,
     "metadata": {},
     "output_type": "execute_result"
    }
   ],
   "source": [
    "Pdict"
   ]
  },
  {
   "cell_type": "code",
   "execution_count": 76,
   "id": "30c51c4a-2807-42e7-98de-81120e14003d",
   "metadata": {},
   "outputs": [
    {
     "data": {
      "text/plain": [
       "array([[80, 77, 82, 82, 73, 82, 58, 78,  6, 35],\n",
       "       [82, 57, 82, 79, 76, 72, 60, 72, 79, 80],\n",
       "       [79, 78, 75, 81, 76, 79, 62, 76, 77, 69],\n",
       "       [80, 65, 77, 66, 69, 77, 55, 67, 77, 40],\n",
       "       [82, 82, 82, 79, 82, 78, 54, 76, 71, 41],\n",
       "       [70, 69, 67, 77, 70, 77, 57, 74, 79, 44],\n",
       "       [78, 64, 80, 78, 45, 80, 60, 70, 62, 82],\n",
       "       [35, 35, 80, 74, 82, 78, 66, 81, 81, 27],\n",
       "       [40, 40, 40, 81, 78, 81, 39,  0, 10, 51],\n",
       "       [75, 51, 51, 79, 77, 76, 49, 69, 54, 62]])"
      ]
     },
     "execution_count": 76,
     "metadata": {},
     "output_type": "execute_result"
    }
   ],
   "source": [
    "Games"
   ]
  },
  {
   "cell_type": "code",
   "execution_count": 77,
   "id": "c387f887-52eb-4711-9fb9-61b3935dabb0",
   "metadata": {},
   "outputs": [
    {
     "data": {
      "text/plain": [
       "array([82, 58, 78,  6])"
      ]
     },
     "execution_count": 77,
     "metadata": {},
     "output_type": "execute_result"
    }
   ],
   "source": [
    "\n",
    "Games[Pdict['Sachin'], Sdict['2015']:Sdict['2019']]"
   ]
  },
  {
   "cell_type": "code",
   "execution_count": 78,
   "id": "7ddabd8c-acc9-45f1-87e1-0201ccd5fb26",
   "metadata": {},
   "outputs": [
    {
     "data": {
      "text/plain": [
       "array([[15946875, 17718750, 19490625, 21262500, 23034375, 24806250,\n",
       "        25244493, 27849149, 30453805, 23500000],\n",
       "       [12000000, 12744189, 13488377, 14232567, 14976754, 16324500,\n",
       "        18038573, 19752645, 21466718, 23180790],\n",
       "       [ 4621800,  5828090, 13041250, 14410581, 15779912, 14500000,\n",
       "        16022500, 17545000, 19067500, 20644400],\n",
       "       [ 3713640,  4694041, 13041250, 14410581, 15779912, 17149243,\n",
       "        18518574, 19450000, 22407474, 22458000],\n",
       "       [ 4493160,  4806720,  6061274, 13758000, 15202590, 16647180,\n",
       "        18091770, 19536360, 20513178, 21436271],\n",
       "       [ 3348000,  4235220, 12455000, 14410581, 15779912, 14500000,\n",
       "        16022500, 17545000, 19067500, 20644400],\n",
       "       [ 3144240,  3380160,  3615960,  4574189, 13520500, 14940153,\n",
       "        16359805, 17779458, 18668431, 20068563],\n",
       "       [       0,        0,  4171200,  4484040,  4796880,  6053663,\n",
       "        15506632, 16669630, 17832627, 18995624],\n",
       "       [       0,        0,        0,  4822800,  5184480,  5546160,\n",
       "         6993708, 16402500, 17632688, 18862875],\n",
       "       [ 3031920,  3841443, 13041250, 14410581, 15779912, 14200000,\n",
       "        15691000, 17182000, 18673000, 15000000]])"
      ]
     },
     "execution_count": 78,
     "metadata": {},
     "output_type": "execute_result"
    }
   ],
   "source": [
    "Salary"
   ]
  },
  {
   "cell_type": "code",
   "execution_count": 79,
   "id": "df390a55-6f2e-4ed9-a79b-ce201b0b5653",
   "metadata": {},
   "outputs": [
    {
     "data": {
      "text/plain": [
       "array([12000000, 12744189, 13488377, 14232567, 14976754])"
      ]
     },
     "execution_count": 79,
     "metadata": {},
     "output_type": "execute_result"
    }
   ],
   "source": [
    "Salary[Pdict['Rahul'], Sdict['2010']:Sdict['2015']]"
   ]
  },
  {
   "cell_type": "code",
   "execution_count": 80,
   "id": "89b666d2-6f76-40df-8e9d-24fbc8619df9",
   "metadata": {},
   "outputs": [
    {
     "name": "stderr",
     "output_type": "stream",
     "text": [
      "C:\\Users\\ashif\\AppData\\Local\\Temp\\ipykernel_10524\\3709746658.py:1: RuntimeWarning: divide by zero encountered in divide\n",
      "  Salary/Games\n"
     ]
    },
    {
     "data": {
      "text/plain": [
       "array([[ 199335.9375    ,  230113.63636364,  237690.54878049,\n",
       "         259298.7804878 ,  315539.38356164,  302515.24390244,\n",
       "         435249.87931034,  357040.37179487, 5075634.16666667,\n",
       "         671428.57142857],\n",
       "       [ 146341.46341463,  223582.26315789,  164492.40243902,\n",
       "         180159.07594937,  197062.55263158,  226729.16666667,\n",
       "         300642.88333333,  274342.29166667,  271730.60759494,\n",
       "         289759.875     ],\n",
       "       [  58503.79746835,   74719.1025641 ,  173883.33333333,\n",
       "         177908.40740741,  207630.42105263,  183544.30379747,\n",
       "         258427.41935484,  230855.26315789,  247629.87012987,\n",
       "         299194.20289855],\n",
       "       [  46420.5       ,   72216.01538462,  169366.88311688,\n",
       "         218342.13636364,  228694.37681159,  222717.44155844,\n",
       "         336701.34545455,  290298.50746269,  291006.15584416,\n",
       "         561450.        ],\n",
       "       [  54794.63414634,   58618.53658537,   73917.97560976,\n",
       "         174151.89873418,  185397.43902439,  213425.38461538,\n",
       "         335032.77777778,  257057.36842105,  288918.        ,\n",
       "         522835.87804878],\n",
       "       [  47828.57142857,   61380.        ,  185895.52238806,\n",
       "         187150.4025974 ,  225427.31428571,  188311.68831169,\n",
       "         281096.49122807,  237094.59459459,  241360.75949367,\n",
       "         469190.90909091],\n",
       "       [  40310.76923077,   52815.        ,   45199.5       ,\n",
       "          58643.44871795,  300455.55555556,  186751.9125    ,\n",
       "         272663.41666667,  253992.25714286,  301103.72580645,\n",
       "         244738.57317073],\n",
       "       [      0.        ,       0.        ,   52140.        ,\n",
       "          60595.13513514,   58498.53658537,   77611.06410256,\n",
       "         234948.96969697,  205797.90123457,  220155.88888889,\n",
       "         703541.62962963],\n",
       "       [      0.        ,       0.        ,       0.        ,\n",
       "          59540.74074074,   66467.69230769,   68471.11111111,\n",
       "         179325.84615385,              inf, 1763268.8       ,\n",
       "         369860.29411765],\n",
       "       [  40425.6       ,   75322.41176471,  255710.78431373,\n",
       "         182412.41772152,  204933.92207792,  186842.10526316,\n",
       "         320224.48979592,  249014.49275362,  345796.2962963 ,\n",
       "         241935.48387097]])"
      ]
     },
     "execution_count": 80,
     "metadata": {},
     "output_type": "execute_result"
    }
   ],
   "source": [
    "Salary/Games"
   ]
  },
  {
   "cell_type": "code",
   "execution_count": 81,
   "id": "d55b26b6-e63f-4249-81d9-c104475b2f70",
   "metadata": {},
   "outputs": [
    {
     "name": "stderr",
     "output_type": "stream",
     "text": [
      "C:\\Users\\ashif\\AppData\\Local\\Temp\\ipykernel_10524\\3232172828.py:1: RuntimeWarning: divide by zero encountered in divide\n",
      "  np.round(Salary/Games)\n"
     ]
    },
    {
     "data": {
      "text/plain": [
       "array([[ 199336.,  230114.,  237691.,  259299.,  315539.,  302515.,\n",
       "         435250.,  357040., 5075634.,  671429.],\n",
       "       [ 146341.,  223582.,  164492.,  180159.,  197063.,  226729.,\n",
       "         300643.,  274342.,  271731.,  289760.],\n",
       "       [  58504.,   74719.,  173883.,  177908.,  207630.,  183544.,\n",
       "         258427.,  230855.,  247630.,  299194.],\n",
       "       [  46420.,   72216.,  169367.,  218342.,  228694.,  222717.,\n",
       "         336701.,  290299.,  291006.,  561450.],\n",
       "       [  54795.,   58619.,   73918.,  174152.,  185397.,  213425.,\n",
       "         335033.,  257057.,  288918.,  522836.],\n",
       "       [  47829.,   61380.,  185896.,  187150.,  225427.,  188312.,\n",
       "         281096.,  237095.,  241361.,  469191.],\n",
       "       [  40311.,   52815.,   45200.,   58643.,  300456.,  186752.,\n",
       "         272663.,  253992.,  301104.,  244739.],\n",
       "       [      0.,       0.,   52140.,   60595.,   58499.,   77611.,\n",
       "         234949.,  205798.,  220156.,  703542.],\n",
       "       [      0.,       0.,       0.,   59541.,   66468.,   68471.,\n",
       "         179326.,      inf, 1763269.,  369860.],\n",
       "       [  40426.,   75322.,  255711.,  182412.,  204934.,  186842.,\n",
       "         320224.,  249014.,  345796.,  241935.]])"
      ]
     },
     "execution_count": 81,
     "metadata": {},
     "output_type": "execute_result"
    }
   ],
   "source": [
    "np.round(Salary/Games)"
   ]
  },
  {
   "cell_type": "code",
   "execution_count": 82,
   "id": "064f1766-cebf-44f7-87dd-315827d4b2d8",
   "metadata": {},
   "outputs": [],
   "source": [
    "import warnings\n",
    "warnings.filterwarnings('ignore')"
   ]
  },
  {
   "cell_type": "code",
   "execution_count": 83,
   "id": "0b9fe6a7-200b-4d5f-ad2c-7fbc4d92cb47",
   "metadata": {},
   "outputs": [],
   "source": [
    "import numpy as np\n",
    "import matplotlib.pyplot as plt"
   ]
  },
  {
   "cell_type": "code",
   "execution_count": 84,
   "id": "f85aa9ab-76f1-4f6a-8f5c-bc7bb427860c",
   "metadata": {},
   "outputs": [
    {
     "name": "stderr",
     "output_type": "stream",
     "text": [
      "UsageError: Line magic function `%matplotlib,` not found.\n"
     ]
    }
   ],
   "source": [
    "%matplotlib, inline"
   ]
  },
  {
   "cell_type": "code",
   "execution_count": null,
   "id": "a5973221-6cac-43af-907b-c0efc2a0413d",
   "metadata": {},
   "outputs": [],
   "source": [
    "Salary"
   ]
  },
  {
   "cell_type": "code",
   "execution_count": null,
   "id": "9ee75fb3-ea30-40d0-94d7-e053a8ba7751",
   "metadata": {},
   "outputs": [],
   "source": [
    "Salary[0]"
   ]
  },
  {
   "cell_type": "code",
   "execution_count": null,
   "id": "b2b1fe68-1aee-400e-a7bb-cef5cdab119b",
   "metadata": {},
   "outputs": [],
   "source": [
    "Salary[Pdict['Sachin']]"
   ]
  },
  {
   "cell_type": "code",
   "execution_count": null,
   "id": "11968e45-1d1b-4acd-a8b8-42458cbfa701",
   "metadata": {},
   "outputs": [],
   "source": [
    "Pdict['Sachin']"
   ]
  },
  {
   "cell_type": "code",
   "execution_count": null,
   "id": "3b9bb0a9-971c-4ea0-a941-a85967813045",
   "metadata": {},
   "outputs": [],
   "source": [
    "sachin_salary = Salary[Pdict['Sachin']]\n",
    "print(sachin_salary)"
   ]
  },
  {
   "cell_type": "code",
   "execution_count": null,
   "id": "90e18c3b-a0ec-45ba-8a06-d33a4b2fead0",
   "metadata": {},
   "outputs": [],
   "source": [
    "plt.plot(sachin_salary)"
   ]
  },
  {
   "cell_type": "code",
   "execution_count": null,
   "id": "3d8d03c9-0f7b-4e5f-9b8a-3682370567b3",
   "metadata": {},
   "outputs": [],
   "source": [
    "last_five_year_salary = Salary[Pdict['Sachin'], 5:] "
   ]
  },
  {
   "cell_type": "code",
   "execution_count": null,
   "id": "8d844c1a-7c50-4cd1-909e-b46c8bfcf4fb",
   "metadata": {},
   "outputs": [],
   "source": [
    "last_five_year_salary"
   ]
  },
  {
   "cell_type": "code",
   "execution_count": null,
   "id": "b2eb505b-8972-4690-8ffe-7905559b3db4",
   "metadata": {},
   "outputs": [],
   "source": [
    "plt.plot(last_five_year_salary)"
   ]
  },
  {
   "cell_type": "code",
   "execution_count": null,
   "id": "d5beb1f8-d790-4fb9-9846-2c216a890ebd",
   "metadata": {},
   "outputs": [],
   "source": [
    "plt.plot(last_five_year_salary, c='red')"
   ]
  },
  {
   "cell_type": "code",
   "execution_count": null,
   "id": "006dc902-dd7b-4b0e-a0a2-46f2f78beaba",
   "metadata": {},
   "outputs": [],
   "source": [
    "plt.plot(Salary[Pdict['Sachin']], c='Blue', ls='dashed')"
   ]
  },
  {
   "cell_type": "code",
   "execution_count": null,
   "id": "26ae230f-0a63-4213-90b4-153a94780f20",
   "metadata": {},
   "outputs": [],
   "source": [
    "plt.plot(Salary[Pdict['Kohli']], c='Green', ls = '--', marker='s')"
   ]
  },
  {
   "cell_type": "code",
   "execution_count": null,
   "id": "047df312-59d8-4f47-a754-1af69c3d243e",
   "metadata": {},
   "outputs": [],
   "source": [
    "plt.plot(Salary[Pdict['Dhoni']], c='Green', ls='--', ms=10, marker='s')\n",
    "plt.show()"
   ]
  },
  {
   "cell_type": "code",
   "execution_count": null,
   "id": "646a4ff2-76fb-4f89-941c-05427daf806f",
   "metadata": {},
   "outputs": [],
   "source": [
    "%matplotlib inline\n",
    "plt.rcParams['figure.figsize'] = 10,8"
   ]
  },
  {
   "cell_type": "code",
   "execution_count": null,
   "id": "986a6bb3-2124-488e-b328-988c4ebc7843",
   "metadata": {},
   "outputs": [],
   "source": [
    "plt.plot(Salary[Pdict['Kohli']], c='Green', ls='--', marker='s', ms=10)\n",
    "plt.show()"
   ]
  },
  {
   "cell_type": "code",
   "execution_count": null,
   "id": "92309f21-ecb5-4517-9d5e-986736fcdc2a",
   "metadata": {},
   "outputs": [],
   "source": [
    "plt.plot(Salary[Pdict['Sachin']], c='Green', ls='--', marker='s', ms=7)\n",
    "plt.xticks(list(range(0,10)), Seasons)\n",
    "plt.show()"
   ]
  },
  {
   "cell_type": "code",
   "execution_count": null,
   "id": "9c16028c-b603-4c0d-a2ec-c6c26744b818",
   "metadata": {},
   "outputs": [],
   "source": [
    "Seasons"
   ]
  },
  {
   "cell_type": "code",
   "execution_count": null,
   "id": "d10419f2-3769-49f8-9b59-ef462d3e0557",
   "metadata": {},
   "outputs": [],
   "source": [
    "Players"
   ]
  },
  {
   "cell_type": "code",
   "execution_count": null,
   "id": "23c14d91-0ed8-4da5-939d-06538011c6e1",
   "metadata": {},
   "outputs": [],
   "source": [
    "plt.plot(Salary[Pdict['Sachin']], ls=':', c='Green', marker='s', ms=7, label=Players[0])\n",
    "plt.xticks(list(range(0,10)), Seasons, rotation='vertical')\n",
    "plt.show()"
   ]
  },
  {
   "cell_type": "code",
   "execution_count": null,
   "id": "5d302e02-a754-4d0c-bdd1-dfc7559b03e2",
   "metadata": {},
   "outputs": [],
   "source": [
    "plt.plot(Salary[Pdict['Kohli']], c='Green', marker='o', ls=':', ms=10, label=Players[-2])\n",
    "plt.xticks(list(range(0,10)), Seasons, rotation='horizontal')\n",
    "plt.show()"
   ]
  },
  {
   "cell_type": "code",
   "execution_count": null,
   "id": "6a9d626a-f64c-43c8-8aad-b07eccad8a12",
   "metadata": {},
   "outputs": [],
   "source": [
    "Players"
   ]
  },
  {
   "cell_type": "code",
   "execution_count": null,
   "id": "a19b8a55-0f80-472e-8d98-2f24a2d53858",
   "metadata": {},
   "outputs": [],
   "source": [
    "# More visualization"
   ]
  },
  {
   "cell_type": "code",
   "execution_count": null,
   "id": "6bd5a8e9-f4ff-48d7-a8f3-f6b380718f68",
   "metadata": {},
   "outputs": [],
   "source": [
    "plt.plot(Salary[Pdict['Sachin']], c='Green', marker='s', ls=':', label=Players[0], ms=10)\n",
    "plt.plot(Salary[Pdict['Rahul']], c='Blue', marker='o', ls=':', label=Players[1], ms=10)\n",
    "plt.plot(Salary[Pdict['Smith']], c='Red', marker='^', ls=':', label=Players[2], ms=10)\n",
    "plt.plot(Salary[Pdict['Sami']], c='Yellow', marker='d', ls=':', label=Players[3], ms=10)\n",
    "plt.plot(Salary[Pdict['Pollard']], c='Black', marker='o', ls=':', label=Players[4], ms=10)\n",
    "plt.plot(Salary[Pdict['Dhoni']], c='Black', marker='o', ls=':', label=Players[-3], ms=10)\n",
    "plt.xticks(list(range(0,10)), Seasons, rotation='vertical')\n",
    "plt.legend(loc = 'lower right',bbox_to_anchor=(0.5,1))\n",
    "plt.show()"
   ]
  },
  {
   "cell_type": "code",
   "execution_count": null,
   "id": "e9ed2dc2-792d-45d3-814c-9e250acf53a9",
   "metadata": {},
   "outputs": [],
   "source": [
    "# we can visualize the how many games played by a player\n",
    "\n",
    "plt.plot(Games[0], c='Green', ls = '--', marker = 's', ms = 7, label = Players[0])\n",
    "plt.plot(Games[1], c='Blue', ls = '--', marker = 'o', ms = 7, label = Players[1])\n",
    "plt.plot(Games[2], c='Green', ls = '--', marker = '^', ms = 7, label = Players[2])\n",
    "plt.plot(Games[3], c='Red', ls = '--', marker = 'D', ms = 7, label = Players[3])\n",
    "plt.plot(Games[4], c='Black', ls = '--', marker = 's', ms = 7, label = Players[4])\n",
    "plt.plot(Games[5], c='Blue', ls = '--', marker = 'o', ms = 7, label = Players[5])\n",
    "plt.plot(Games[6], c='red', ls = '--', marker = '^', ms = 7, label = Players[6])\n",
    "plt.plot(Games[7], c='Green', ls = '--', marker = 'd', ms = 7, label = Players[7])\n",
    "plt.plot(Games[8], c='Red', ls = '--', marker = 's', ms = 7, label = Players[8])\n",
    "plt.plot(Games[9], c='Blue', ls = '--', marker = 'o', ms = 7, label = Players[9])\n",
    "\n",
    "plt.legend(loc = 'lower right',bbox_to_anchor=(0.5,1) )\n",
    "plt.xticks(list(range(0,10)), Seasons,rotation='vertical')\n",
    "\n",
    "plt.show()"
   ]
  },
  {
   "cell_type": "code",
   "execution_count": 85,
   "id": "87257550-4cb4-4636-bf59-268d387dfb22",
   "metadata": {},
   "outputs": [
    {
     "data": {
      "text/plain": [
       "array([[80, 77, 82, 82, 73, 82, 58, 78,  6, 35],\n",
       "       [82, 57, 82, 79, 76, 72, 60, 72, 79, 80],\n",
       "       [79, 78, 75, 81, 76, 79, 62, 76, 77, 69],\n",
       "       [80, 65, 77, 66, 69, 77, 55, 67, 77, 40],\n",
       "       [82, 82, 82, 79, 82, 78, 54, 76, 71, 41],\n",
       "       [70, 69, 67, 77, 70, 77, 57, 74, 79, 44],\n",
       "       [78, 64, 80, 78, 45, 80, 60, 70, 62, 82],\n",
       "       [35, 35, 80, 74, 82, 78, 66, 81, 81, 27],\n",
       "       [40, 40, 40, 81, 78, 81, 39,  0, 10, 51],\n",
       "       [75, 51, 51, 79, 77, 76, 49, 69, 54, 62]])"
      ]
     },
     "execution_count": 85,
     "metadata": {},
     "output_type": "execute_result"
    }
   ],
   "source": [
    "Games"
   ]
  },
  {
   "cell_type": "code",
   "execution_count": 86,
   "id": "4edf06c2-6561-46cb-a1e3-fb84bbba59c1",
   "metadata": {},
   "outputs": [
    {
     "data": {
      "text/plain": [
       "['Sachin',\n",
       " 'Rahul',\n",
       " 'Smith',\n",
       " 'Sami',\n",
       " 'Pollard',\n",
       " 'Morris',\n",
       " 'Samson',\n",
       " 'Dhoni',\n",
       " 'Kohli',\n",
       " 'Sky']"
      ]
     },
     "execution_count": 86,
     "metadata": {},
     "output_type": "execute_result"
    }
   ],
   "source": [
    "Players"
   ]
  },
  {
   "cell_type": "code",
   "execution_count": 90,
   "id": "0777eebe-4f0d-468b-94f5-2638cbaa01cd",
   "metadata": {},
   "outputs": [
    {
     "data": {
      "text/plain": [
       "['2010',\n",
       " '2011',\n",
       " '2012',\n",
       " '2013',\n",
       " '2014',\n",
       " '2015',\n",
       " '2016',\n",
       " '2017',\n",
       " '2018',\n",
       " '2019']"
      ]
     },
     "execution_count": 90,
     "metadata": {},
     "output_type": "execute_result"
    }
   ],
   "source": [
    "Seasons"
   ]
  },
  {
   "cell_type": "code",
   "execution_count": 106,
   "id": "a8cead3a-e360-4c03-81f7-b1cb846cc314",
   "metadata": {},
   "outputs": [
    {
     "data": {
      "image/png": "[encoded data removed]",
      "text/plain": [
       "<Figure size 1000x800 with 1 Axes>"
      ]
     },
     "metadata": {},
     "output_type": "display_data"
    }
   ],
   "source": [
    "plt.rcParams['figure.figsize'] = 10, 8\n",
    "plt.plot(Games[Pdict['Sachin']], ls='--', marker='o', ms=10, label=Players[Pdict['Sachin']])\n",
    "plt.plot(Games[Pdict['Rahul']], ls='-', marker='v', ms=10, label=Players[Pdict['Rahul']])\n",
    "plt.plot(Games[Pdict['Smith']], ls='solid', marker='s', ms=10, label=Players[Pdict['Smith']])\n",
    "plt.plot(Games[Pdict['Sami']], ls='-', marker='s', ms=10, label=Players[Pdict['Sami']])\n",
    "plt.plot(Games[Pdict['Dhoni']], ls=':', marker='s', ms=10, label=Players[Pdict['Dhoni']])\n",
    "plt.xticks(list(range(0,10)), Seasons, rotation='vertical')\n",
    "plt.legend(loc=\"best\", bbox_to_anchor=(0.5, 0., 0.5, 0.5))\n",
    "plt.show()"
   ]
  },
  {
   "cell_type": "code",
   "execution_count": null,
   "id": "42fe80b3-ad06-41c8-8167-84b71eb46a46",
   "metadata": {},
   "outputs": [],
   "source": []
  }
 ],
 "metadata": {
  "kernelspec": {
   "display_name": "Python 3 (ipykernel)",
   "language": "python",
   "name": "python3"
  },
  "language_info": {
   "codemirror_mode": {
    "name": "ipython",
    "version": 3
   },
   "file_extension": ".py",
   "mimetype": "text/x-python",
   "name": "python",
   "nbconvert_exporter": "python",
   "pygments_lexer": "ipython3",
   "version": "3.11.7"
  }
 },
 "nbformat": 4,
 "nbformat_minor": 5
}
