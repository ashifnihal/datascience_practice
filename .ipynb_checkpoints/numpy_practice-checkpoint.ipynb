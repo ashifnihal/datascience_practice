{
 "cells": [
  {
   "cell_type": "code",
   "execution_count": 1,
   "id": "0252e745-c8ed-44ce-8b3c-6deb309ea2d8",
   "metadata": {},
   "outputs": [],
   "source": [
    "import numpy as np"
   ]
  },
  {
   "cell_type": "code",
   "execution_count": 10,
   "id": "f1d9f0ce-5e68-4398-94ea-41ab3443d76f",
   "metadata": {},
   "outputs": [
    {
     "data": {
      "text/plain": [
       "array([0, 1, 2])"
      ]
     },
     "execution_count": 10,
     "metadata": {},
     "output_type": "execute_result"
    }
   ],
   "source": [
    "#arange\n",
    "np.arange(3)"
   ]
  },
  {
   "cell_type": "code",
   "execution_count": 3,
   "id": "93d3bea1-e1a6-4dcf-9cc3-d29dd6d8333b",
   "metadata": {},
   "outputs": [
    {
     "data": {
      "text/plain": [
       "array([0., 1., 2.])"
      ]
     },
     "execution_count": 3,
     "metadata": {},
     "output_type": "execute_result"
    }
   ],
   "source": [
    "np.arange(3.0)"
   ]
  },
  {
   "cell_type": "code",
   "execution_count": 4,
   "id": "7b98380e-8de2-4fe1-bb67-d9c9c17e61a1",
   "metadata": {},
   "outputs": [
    {
     "data": {
      "text/plain": [
       "array([0., 1., 2., 3.])"
      ]
     },
     "execution_count": 4,
     "metadata": {},
     "output_type": "execute_result"
    }
   ],
   "source": [
    "np.arange(4, dtype=float)"
   ]
  },
  {
   "cell_type": "code",
   "execution_count": 5,
   "id": "204d5cb8-448d-4f72-ba8a-81a23467fd90",
   "metadata": {},
   "outputs": [
    {
     "data": {
      "text/plain": [
       "array([1, 2, 3, 4, 5, 6, 7, 8, 9])"
      ]
     },
     "execution_count": 5,
     "metadata": {},
     "output_type": "execute_result"
    }
   ],
   "source": [
    "np.arange(1,10)"
   ]
  },
  {
   "cell_type": "code",
   "execution_count": 6,
   "id": "18746088-44ae-4ca8-a16f-e95ff531ac80",
   "metadata": {},
   "outputs": [
    {
     "data": {
      "text/plain": [
       "array([1, 3, 5, 7, 9])"
      ]
     },
     "execution_count": 6,
     "metadata": {},
     "output_type": "execute_result"
    }
   ],
   "source": [
    "np.arange(1,10, 2)"
   ]
  },
  {
   "cell_type": "code",
   "execution_count": 7,
   "id": "1ec8dc96-b21b-4d1a-96a7-6abf67f3f689",
   "metadata": {},
   "outputs": [
    {
     "data": {
      "text/plain": [
       "array([ 5, 10, 15])"
      ]
     },
     "execution_count": 7,
     "metadata": {},
     "output_type": "execute_result"
    }
   ],
   "source": [
    "np.arange(5,20,5)"
   ]
  },
  {
   "cell_type": "code",
   "execution_count": 9,
   "id": "f505e320-196c-4691-9356-1df6f558946f",
   "metadata": {},
   "outputs": [
    {
     "data": {
      "text/plain": [
       "array([], dtype=int32)"
      ]
     },
     "execution_count": 9,
     "metadata": {},
     "output_type": "execute_result"
    }
   ],
   "source": [
    "np.arange(10,5)"
   ]
  },
  {
   "cell_type": "code",
   "execution_count": 11,
   "id": "35152b7c-86cb-41fd-8ba9-676db5cbcc82",
   "metadata": {},
   "outputs": [
    {
     "data": {
      "text/plain": [
       "array([0., 0., 0., 0., 0.])"
      ]
     },
     "execution_count": 11,
     "metadata": {},
     "output_type": "execute_result"
    }
   ],
   "source": [
    "#zeros\n",
    "np.zeros(5)"
   ]
  },
  {
   "cell_type": "code",
   "execution_count": 12,
   "id": "62a6eaa5-f4c6-4b4e-a7ef-0cde11ccaafd",
   "metadata": {},
   "outputs": [
    {
     "data": {
      "text/plain": [
       "array([0, 0, 0, 0])"
      ]
     },
     "execution_count": 12,
     "metadata": {},
     "output_type": "execute_result"
    }
   ],
   "source": [
    "np.zeros(4, dtype=int)"
   ]
  },
  {
   "cell_type": "code",
   "execution_count": 13,
   "id": "f88ab225-5a43-4d5f-ab07-934c532ef37b",
   "metadata": {},
   "outputs": [
    {
     "data": {
      "text/plain": [
       "array([[0, 0, 0],\n",
       "       [0, 0, 0]])"
      ]
     },
     "execution_count": 13,
     "metadata": {},
     "output_type": "execute_result"
    }
   ],
   "source": [
    "np.zeros((2,3), dtype=int)"
   ]
  },
  {
   "cell_type": "code",
   "execution_count": 14,
   "id": "1a29544d-c2fc-4e64-a9ba-e6148f860abb",
   "metadata": {},
   "outputs": [
    {
     "data": {
      "text/plain": [
       "array([[0, 0, 0, 0],\n",
       "       [0, 0, 0, 0],\n",
       "       [0, 0, 0, 0],\n",
       "       [0, 0, 0, 0],\n",
       "       [0, 0, 0, 0]])"
      ]
     },
     "execution_count": 14,
     "metadata": {},
     "output_type": "execute_result"
    }
   ],
   "source": [
    "np.zeros((5, 4), dtype=int)"
   ]
  },
  {
   "cell_type": "code",
   "execution_count": 17,
   "id": "01535b62-0590-40de-9ee8-f3dcc7d60e2b",
   "metadata": {},
   "outputs": [
    {
     "name": "stdout",
     "output_type": "stream",
     "text": [
      "[1 2 3 4 5 6 7 8 9]\n",
      "<class 'list'>\n",
      "<class 'numpy.ndarray'>\n"
     ]
    }
   ],
   "source": [
    "#list to array\n",
    "list_a = [1,2,3,4,5,6,7,8,9]\n",
    "arr = np.array(list_a)\n",
    "print(arr)\n",
    "print(type(list_a))\n",
    "print(type(arr))"
   ]
  },
  {
   "cell_type": "code",
   "execution_count": 22,
   "id": "f43b3223-54cf-41e0-88db-9843537ddbd1",
   "metadata": {},
   "outputs": [
    {
     "data": {
      "text/plain": [
       "array([1., 1., 1., 1., 1., 1., 1.])"
      ]
     },
     "execution_count": 22,
     "metadata": {},
     "output_type": "execute_result"
    }
   ],
   "source": [
    "#ones\n",
    "np.ones(7)"
   ]
  },
  {
   "cell_type": "code",
   "execution_count": 19,
   "id": "cde25872-902c-4140-9103-b3c45541a184",
   "metadata": {},
   "outputs": [
    {
     "data": {
      "text/plain": [
       "array([1, 1, 1, 1, 1, 1, 1, 1, 1, 1])"
      ]
     },
     "execution_count": 19,
     "metadata": {},
     "output_type": "execute_result"
    }
   ],
   "source": [
    "np.ones(10, dtype=int)"
   ]
  },
  {
   "cell_type": "code",
   "execution_count": 20,
   "id": "4e51f0ce-9475-45e3-876b-1261e1887d28",
   "metadata": {},
   "outputs": [
    {
     "data": {
      "text/plain": [
       "array([[1, 1, 1, 1],\n",
       "       [1, 1, 1, 1],\n",
       "       [1, 1, 1, 1],\n",
       "       [1, 1, 1, 1],\n",
       "       [1, 1, 1, 1]])"
      ]
     },
     "execution_count": 20,
     "metadata": {},
     "output_type": "execute_result"
    }
   ],
   "source": [
    "np.ones((5, 4), dtype=int)"
   ]
  },
  {
   "cell_type": "code",
   "execution_count": 23,
   "id": "9a0c715e-3539-47b7-a577-db99c3c8169f",
   "metadata": {},
   "outputs": [
    {
     "data": {
      "text/plain": [
       "array([[1, 1, 1, 1]])"
      ]
     },
     "execution_count": 23,
     "metadata": {},
     "output_type": "execute_result"
    }
   ],
   "source": [
    "np.ones((1, 4), dtype=int)"
   ]
  },
  {
   "cell_type": "code",
   "execution_count": 24,
   "id": "bc6fdcdc-91b3-4593-8186-97bc19891b8d",
   "metadata": {},
   "outputs": [
    {
     "data": {
      "text/plain": [
       "array([[1.],\n",
       "       [1.],\n",
       "       [1.],\n",
       "       [1.]])"
      ]
     },
     "execution_count": 24,
     "metadata": {},
     "output_type": "execute_result"
    }
   ],
   "source": [
    "np.ones((4,1))"
   ]
  },
  {
   "cell_type": "code",
   "execution_count": 25,
   "id": "e5a8eb31-e2e5-4da4-879d-dd4d9bf207d1",
   "metadata": {},
   "outputs": [
    {
     "data": {
      "text/plain": [
       "array([1., 1., 1., 1.])"
      ]
     },
     "execution_count": 25,
     "metadata": {},
     "output_type": "execute_result"
    }
   ],
   "source": [
    "np.ones((4))"
   ]
  },
  {
   "cell_type": "code",
   "execution_count": 27,
   "id": "964afe72-4c8d-43c2-85ac-dd673cb7bafa",
   "metadata": {},
   "outputs": [
    {
     "data": {
      "text/plain": [
       "array([[1],\n",
       "       [1],\n",
       "       [1],\n",
       "       [1],\n",
       "       [1],\n",
       "       [1],\n",
       "       [1],\n",
       "       [1],\n",
       "       [1],\n",
       "       [1],\n",
       "       [1],\n",
       "       [1],\n",
       "       [1],\n",
       "       [1],\n",
       "       [1],\n",
       "       [1],\n",
       "       [1],\n",
       "       [1],\n",
       "       [1],\n",
       "       [1],\n",
       "       [1],\n",
       "       [1],\n",
       "       [1],\n",
       "       [1],\n",
       "       [1],\n",
       "       [1],\n",
       "       [1],\n",
       "       [1],\n",
       "       [1],\n",
       "       [1]])"
      ]
     },
     "execution_count": 27,
     "metadata": {},
     "output_type": "execute_result"
    }
   ],
   "source": [
    "np.ones((30, 1), dtype=int)"
   ]
  },
  {
   "cell_type": "code",
   "execution_count": 29,
   "id": "779927fc-218b-4230-9af1-29dd699c7d86",
   "metadata": {},
   "outputs": [
    {
     "data": {
      "text/plain": [
       "4"
      ]
     },
     "execution_count": 29,
     "metadata": {},
     "output_type": "execute_result"
    }
   ],
   "source": [
    "#randint\n",
    "np.random.randint(10)"
   ]
  },
  {
   "cell_type": "code",
   "execution_count": 31,
   "id": "c38bab34-cab0-40d6-ae91-895697330280",
   "metadata": {},
   "outputs": [
    {
     "data": {
      "text/plain": [
       "6"
      ]
     },
     "execution_count": 31,
     "metadata": {},
     "output_type": "execute_result"
    }
   ],
   "source": [
    "np.random.randint(5,10)"
   ]
  },
  {
   "cell_type": "code",
   "execution_count": 39,
   "id": "9dcfc717-bfd0-4978-aed5-3200ba6777ed",
   "metadata": {},
   "outputs": [
    {
     "data": {
      "text/plain": [
       "array([4, 0])"
      ]
     },
     "execution_count": 39,
     "metadata": {},
     "output_type": "execute_result"
    }
   ],
   "source": [
    "np.random.randint((5, 10))"
   ]
  },
  {
   "cell_type": "code",
   "execution_count": 40,
   "id": "90ca93d0-9b2d-4b2b-a3f0-cac881497972",
   "metadata": {},
   "outputs": [
    {
     "data": {
      "text/plain": [
       "array([4, 3, 0])"
      ]
     },
     "execution_count": 40,
     "metadata": {},
     "output_type": "execute_result"
    }
   ],
   "source": [
    "np.random.randint((5, 10, 5))"
   ]
  },
  {
   "cell_type": "code",
   "execution_count": 42,
   "id": "593bd714-bc59-49ac-97b4-5fbabc5f15b3",
   "metadata": {},
   "outputs": [
    {
     "data": {
      "text/plain": [
       "array([[13, 17, 19],\n",
       "       [13, 10, 17],\n",
       "       [15, 11, 12],\n",
       "       [12, 15, 10],\n",
       "       [13, 15, 18]])"
      ]
     },
     "execution_count": 42,
     "metadata": {},
     "output_type": "execute_result"
    }
   ],
   "source": [
    "np.random.randint(10,20,(5, 3))"
   ]
  },
  {
   "cell_type": "code",
   "execution_count": 44,
   "id": "3b23a68d-6699-4825-b668-2f5f1007246e",
   "metadata": {},
   "outputs": [
    {
     "data": {
      "text/plain": [
       "array([[8, 6, 7, 6, 9],\n",
       "       [6, 7, 8, 7, 8]])"
      ]
     },
     "execution_count": 44,
     "metadata": {},
     "output_type": "execute_result"
    }
   ],
   "source": [
    "np.random.randint(5, 10, (2, 5))"
   ]
  },
  {
   "cell_type": "code",
   "execution_count": 45,
   "id": "d8ab067f-601a-4fe2-a911-809fee1643cc",
   "metadata": {},
   "outputs": [
    {
     "data": {
      "text/plain": [
       "array([2, 9])"
      ]
     },
     "execution_count": 45,
     "metadata": {},
     "output_type": "execute_result"
    }
   ],
   "source": [
    "np.random.randint(2,10,2)"
   ]
  },
  {
   "cell_type": "code",
   "execution_count": 46,
   "id": "ad0e150d-0980-4849-ab92-c68808ea1c58",
   "metadata": {},
   "outputs": [
    {
     "data": {
      "text/plain": [
       "array([3, 6, 4, 4, 3, 7, 3, 4, 3, 4])"
      ]
     },
     "execution_count": 46,
     "metadata": {},
     "output_type": "execute_result"
    }
   ],
   "source": [
    "np.random.randint(2,9, 10)"
   ]
  },
  {
   "cell_type": "code",
   "execution_count": 56,
   "id": "57c2bbe0-f918-477d-9c1c-673b93ae0cc5",
   "metadata": {},
   "outputs": [
    {
     "name": "stdout",
     "output_type": "stream",
     "text": [
      "0\n",
      "[30 31 32 33 34]\n",
      "[10 11 12 13 14]\n",
      "[[11 12]\n",
      " [21 22]]\n",
      "[31 32]\n"
     ]
    }
   ],
   "source": [
    "a = np.array([[0, 1, 2, 3, 4],\n",
    "         [10, 11, 12, 13, 14],\n",
    "         [20, 21, 22, 23, 24],\n",
    "         [30, 31, 32, 33, 34]])\n",
    "print(a[0,0]) #0\n",
    "print(a[-1]) #[30, 31, 33, 34]\n",
    "print(a[1]) #[10, 11, 12, 13, 14]\n",
    "print(a[1:3, 1:3]) #[11, 12],[21, 22]\n",
    "print(a[-1, 1:3]) #[31, 32]"
   ]
  },
  {
   "cell_type": "code",
   "execution_count": 58,
   "id": "a5919c57-58bc-4f25-afad-a066d0c30168",
   "metadata": {},
   "outputs": [
    {
     "data": {
      "text/plain": [
       "array([11, 22, 33, 14])"
      ]
     },
     "execution_count": 58,
     "metadata": {},
     "output_type": "execute_result"
    }
   ],
   "source": [
    "x = np.array([1,2,3,1])\n",
    "y = np.array([1,2,3,4])\n",
    "a[x,y] #[11, 22, 33, 14]"
   ]
  },
  {
   "cell_type": "code",
   "execution_count": 63,
   "id": "74744dd4-042d-4760-bf40-e877f97f9e02",
   "metadata": {},
   "outputs": [
    {
     "data": {
      "text/plain": [
       "array([0, 1, 2, 3, 4])"
      ]
     },
     "execution_count": 63,
     "metadata": {},
     "output_type": "execute_result"
    }
   ],
   "source": [
    "a[a<9]"
   ]
  },
  {
   "cell_type": "code",
   "execution_count": 68,
   "id": "ee9469cc-6245-45da-b0e6-6dea1c8ad83a",
   "metadata": {},
   "outputs": [
    {
     "data": {
      "text/plain": [
       "array([[ 1,  2],\n",
       "       [11, 12],\n",
       "       [21, 22],\n",
       "       [31, 32]])"
      ]
     },
     "execution_count": 68,
     "metadata": {},
     "output_type": "execute_result"
    }
   ],
   "source": [
    "b1 = np.array([False, True, True, False, False])\n",
    "a[:,b1] # [1,2] [12, 13], [22,23], [32, 33]"
   ]
  },
  {
   "cell_type": "code",
   "execution_count": 69,
   "id": "bf01e33a-dedf-4a40-b54f-2f19c4c70463",
   "metadata": {},
   "outputs": [
    {
     "data": {
      "text/plain": [
       "array([[ 0,  1,  2,  3,  4],\n",
       "       [30, 31, 32, 33, 34]])"
      ]
     },
     "execution_count": 69,
     "metadata": {},
     "output_type": "execute_result"
    }
   ],
   "source": [
    "a1 = np.array([True, False, False, True])\n",
    "a[a1, :] #[0,1,2,3,4], [30,31,32, 33, 34]"
   ]
  },
  {
   "cell_type": "code",
   "execution_count": null,
   "id": "1c00d68f-9d82-47c8-b7e2-99a194a44bdf",
   "metadata": {},
   "outputs": [],
   "source": []
  }
 ],
 "metadata": {
  "kernelspec": {
   "display_name": "Python 3 (ipykernel)",
   "language": "python",
   "name": "python3"
  },
  "language_info": {
   "codemirror_mode": {
    "name": "ipython",
    "version": 3
   },
   "file_extension": ".py",
   "mimetype": "text/x-python",
   "name": "python",
   "nbconvert_exporter": "python",
   "pygments_lexer": "ipython3",
   "version": "3.11.7"
  }
 },
 "nbformat": 4,
 "nbformat_minor": 5
}
