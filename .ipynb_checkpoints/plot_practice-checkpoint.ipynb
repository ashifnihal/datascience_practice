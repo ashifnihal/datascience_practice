{
 "cells": [
  {
   "cell_type": "code",
   "execution_count": 103,
   "id": "98e19784-e623-478f-a6f8-8571f8b23490",
   "metadata": {},
   "outputs": [],
   "source": [
    "# with open(r'C:\\Users\\ashif\\datascience_notebooks\\datascience_Task_1.xlsx', 'r', encoding='ISO-8859-1') as f:\n",
    "#     content = f.readlines()\n",
    "#     print(content)"
   ]
  },
  {
   "cell_type": "code",
   "execution_count": 91,
   "id": "38dbe694-1f10-4ab2-966b-7a0df0f98155",
   "metadata": {},
   "outputs": [
    {
     "name": "stdout",
     "output_type": "stream",
     "text": [
      "Defaulting to user installation because normal site-packages is not writeable\n",
      "Requirement already satisfied: pandas in c:\\programdata\\anaconda3\\lib\\site-packages (2.1.4)\n",
      "Requirement already satisfied: numpy<2,>=1.23.2 in c:\\programdata\\anaconda3\\lib\\site-packages (from pandas) (1.26.4)\n",
      "Requirement already satisfied: python-dateutil>=2.8.2 in c:\\programdata\\anaconda3\\lib\\site-packages (from pandas) (2.8.2)\n",
      "Requirement already satisfied: pytz>=2020.1 in c:\\programdata\\anaconda3\\lib\\site-packages (from pandas) (2023.3.post1)\n",
      "Requirement already satisfied: tzdata>=2022.1 in c:\\programdata\\anaconda3\\lib\\site-packages (from pandas) (2023.3)\n",
      "Requirement already satisfied: six>=1.5 in c:\\programdata\\anaconda3\\lib\\site-packages (from python-dateutil>=2.8.2->pandas) (1.16.0)\n",
      "Note: you may need to restart the kernel to use updated packages.\n"
     ]
    }
   ],
   "source": [
    "pip install pandas"
   ]
  },
  {
   "cell_type": "code",
   "execution_count": 92,
   "id": "885aad2a-880d-4a45-a841-cf6d5285f18d",
   "metadata": {},
   "outputs": [
    {
     "name": "stdout",
     "output_type": "stream",
     "text": [
      "Defaulting to user installation because normal site-packages is not writeable\n",
      "Requirement already satisfied: odfpy in c:\\users\\ashif\\appdata\\roaming\\python\\python311\\site-packages (1.4.1)\n",
      "Requirement already satisfied: defusedxml in c:\\programdata\\anaconda3\\lib\\site-packages (from odfpy) (0.7.1)\n",
      "Note: you may need to restart the kernel to use updated packages.\n"
     ]
    }
   ],
   "source": [
    "pip install odfpy"
   ]
  },
  {
   "cell_type": "code",
   "execution_count": 93,
   "id": "b94d5da2-313b-4e7a-b908-88c86df2c24c",
   "metadata": {},
   "outputs": [
    {
     "data": {
      "text/html": [
       "<div>\n",
       "<style scoped>\n",
       "    .dataframe tbody tr th:only-of-type {\n",
       "        vertical-align: middle;\n",
       "    }\n",
       "\n",
       "    .dataframe tbody tr th {\n",
       "        vertical-align: top;\n",
       "    }\n",
       "\n",
       "    .dataframe thead th {\n",
       "        text-align: right;\n",
       "    }\n",
       "</style>\n",
       "<table border=\"1\" class=\"dataframe\">\n",
       "  <thead>\n",
       "    <tr style=\"text-align: right;\">\n",
       "      <th></th>\n",
       "      <th>ADDRES</th>\n",
       "      <th>date</th>\n",
       "      <th>time</th>\n",
       "    </tr>\n",
       "  </thead>\n",
       "  <tbody>\n",
       "    <tr>\n",
       "      <th>0</th>\n",
       "      <td>56th ben colony, btm layout, bangalore 78909</td>\n",
       "      <td>3rd apr 2022</td>\n",
       "      <td>5hr 55 min 8sec</td>\n",
       "    </tr>\n",
       "    <tr>\n",
       "      <th>1</th>\n",
       "      <td>20th stree, johns road, whitefield, bangalore ...</td>\n",
       "      <td>2021-12-06 00:00:00</td>\n",
       "      <td>0.280741</td>\n",
       "    </tr>\n",
       "  </tbody>\n",
       "</table>\n",
       "</div>"
      ],
      "text/plain": [
       "                                              ADDRES                 date  \\\n",
       "0      56th ben colony, btm layout, bangalore 78909          3rd apr 2022   \n",
       "1  20th stree, johns road, whitefield, bangalore ...  2021-12-06 00:00:00   \n",
       "\n",
       "              time  \n",
       "0  5hr 55 min 8sec  \n",
       "1         0.280741  "
      ]
     },
     "execution_count": 93,
     "metadata": {},
     "output_type": "execute_result"
    }
   ],
   "source": [
    "import pandas as pd\n",
    "excel_data = pd.read_excel(r'C:\\Users\\ashif\\datascience_notebooks\\datascience_Task_1.xlsx')\n",
    "excel_data"
   ]
  },
  {
   "cell_type": "code",
   "execution_count": 94,
   "id": "60932532-f46d-4307-b27e-70f86d77cabd",
   "metadata": {},
   "outputs": [
    {
     "data": {
      "text/plain": [
       "(2, 3)"
      ]
     },
     "execution_count": 94,
     "metadata": {},
     "output_type": "execute_result"
    }
   ],
   "source": [
    "excel_data.shape"
   ]
  },
  {
   "cell_type": "code",
   "execution_count": 95,
   "id": "e24ec4e1-7d50-4b69-af24-3b8e2947a0d8",
   "metadata": {},
   "outputs": [
    {
     "data": {
      "text/plain": [
       "3"
      ]
     },
     "execution_count": 95,
     "metadata": {},
     "output_type": "execute_result"
    }
   ],
   "source": [
    "len(excel_data.columns)"
   ]
  },
  {
   "cell_type": "code",
   "execution_count": 96,
   "id": "a56221ee-b398-47ce-aeaf-0f9bbdeaafab",
   "metadata": {},
   "outputs": [
    {
     "data": {
      "text/plain": [
       "<bound method NDFrame.get of                                               ADDRES                 date  \\\n",
       "0      56th ben colony, btm layout, bangalore 78909          3rd apr 2022   \n",
       "1  20th stree, johns road, whitefield, bangalore ...  2021-12-06 00:00:00   \n",
       "\n",
       "              time  \n",
       "0  5hr 55 min 8sec  \n",
       "1         0.280741  >"
      ]
     },
     "execution_count": 96,
     "metadata": {},
     "output_type": "execute_result"
    }
   ],
   "source": [
    "excel_data.get"
   ]
  },
  {
   "cell_type": "code",
   "execution_count": 97,
   "id": "251fe1ff-722b-4cfa-8120-1df832cc881d",
   "metadata": {},
   "outputs": [
    {
     "name": "stdout",
     "output_type": "stream",
     "text": [
      "['56th', 'ben', 'colony,', 'btm', 'layout,', 'bangalore', '78909', '']\n",
      "['3rd', 'apr', '2022']\n",
      "['5hr', '55', 'min', '8sec']\n",
      "{'ADDRES': ['56th', 'ben', 'colony,', 'btm', 'layout,', 'bangalore', '78909', ''], 'date': ['3rd', 'apr', '2022'], 'time': ['5hr', '55', 'min', '8sec']}\n",
      "{'door no': ['56th'], 'street': ['bencolony,'], 'Area': ['btmlayout,'], 'City': ['bangalore'], 'PinCode': ['78909'], 'Day': ['3rd'], 'Month': ['apr'], 'Year': ['2022'], 'hr': ['5hr'], 'min': ['55min'], 'sec': ['8sec']}\n"
     ]
    }
   ],
   "source": [
    "t_dict = {}\n",
    "for col, row in excel_data.items():\n",
    "    # print(col)\n",
    "    row=row[0].split(' ')\n",
    "    print(row)\n",
    "    t_dict[col] = row\n",
    "print(t_dict)\n",
    "data = {'door no':[t_dict['ADDRES'][0]],  \n",
    "        'street':[(t_dict['ADDRES'][1]+t_dict['ADDRES'][2])], \n",
    "        'Area':[(t_dict['ADDRES'][3]+t_dict['ADDRES'][4])], \n",
    "        'City':[t_dict['ADDRES'][5]], \n",
    "        'PinCode':[t_dict['ADDRES'][6]], \n",
    "        'Day':[t_dict['date'][0]], \n",
    "        'Month':[t_dict['date'][1]], \n",
    "        'Year':[t_dict['date'][2]], \n",
    "        'hr':[t_dict['time'][0]], \n",
    "        'min':[(t_dict['time'][1]+t_dict['time'][2])], \n",
    "        'sec':[t_dict['time'][3]]}\n",
    "print(data)\n",
    "df = pd.DataFrame(data)\n",
    "file_path = 'C:\\\\Users\\\\ashif\\\\datascience_notebooks\\\\address.xlsx'\n",
    "df.to_excel(file_path, index=False)"
   ]
  },
  {
   "cell_type": "code",
   "execution_count": 98,
   "id": "70f6a95c-7656-4a61-8ca1-cee4064bbbc9",
   "metadata": {},
   "outputs": [],
   "source": [
    "csv_data = pd.read_csv(r'C:\\Users\\ashif\\datascience_notebooks\\research-and-development-survey-2022.csv', encoding='latin-1')"
   ]
  },
  {
   "cell_type": "code",
   "execution_count": 99,
   "id": "144b361b-9220-4410-a10b-d02c57b014bc",
   "metadata": {},
   "outputs": [
    {
     "data": {
      "text/html": [
       "<div>\n",
       "<style scoped>\n",
       "    .dataframe tbody tr th:only-of-type {\n",
       "        vertical-align: middle;\n",
       "    }\n",
       "\n",
       "    .dataframe tbody tr th {\n",
       "        vertical-align: top;\n",
       "    }\n",
       "\n",
       "    .dataframe thead th {\n",
       "        text-align: right;\n",
       "    }\n",
       "</style>\n",
       "<table border=\"1\" class=\"dataframe\">\n",
       "  <thead>\n",
       "    <tr style=\"text-align: right;\">\n",
       "      <th></th>\n",
       "      <th>Variable</th>\n",
       "      <th>Breakdown</th>\n",
       "      <th>Breakdown_category</th>\n",
       "      <th>Year</th>\n",
       "      <th>RD_Value</th>\n",
       "      <th>Status</th>\n",
       "      <th>Unit</th>\n",
       "      <th>Footnotes</th>\n",
       "      <th>Relative_Sampling_Error</th>\n",
       "    </tr>\n",
       "  </thead>\n",
       "  <tbody>\n",
       "    <tr>\n",
       "      <th>0</th>\n",
       "      <td>_01_Total_RD_Expenditure</td>\n",
       "      <td>ANZSIC_1_Digit</td>\n",
       "      <td>A_Agriculture, Forestry and Fishing</td>\n",
       "      <td>2016</td>\n",
       "      <td>91</td>\n",
       "      <td>NaN</td>\n",
       "      <td>NZ Dollars (millions)</td>\n",
       "      <td>12</td>\n",
       "      <td>23.8</td>\n",
       "    </tr>\n",
       "    <tr>\n",
       "      <th>1</th>\n",
       "      <td>_01_Total_RD_Expenditure</td>\n",
       "      <td>ANZSIC_1_Digit</td>\n",
       "      <td>A_Agriculture, Forestry and Fishing</td>\n",
       "      <td>2018</td>\n",
       "      <td>89</td>\n",
       "      <td>NaN</td>\n",
       "      <td>NZ Dollars (millions)</td>\n",
       "      <td>12</td>\n",
       "      <td>51.7</td>\n",
       "    </tr>\n",
       "    <tr>\n",
       "      <th>2</th>\n",
       "      <td>_01_Total_RD_Expenditure</td>\n",
       "      <td>ANZSIC_1_Digit</td>\n",
       "      <td>A_Agriculture, Forestry and Fishing</td>\n",
       "      <td>2019</td>\n",
       "      <td>...</td>\n",
       "      <td>NaN</td>\n",
       "      <td>NZ Dollars (millions)</td>\n",
       "      <td>12</td>\n",
       "      <td>...</td>\n",
       "    </tr>\n",
       "    <tr>\n",
       "      <th>3</th>\n",
       "      <td>_01_Total_RD_Expenditure</td>\n",
       "      <td>ANZSIC_1_Digit</td>\n",
       "      <td>A_Agriculture, Forestry and Fishing</td>\n",
       "      <td>2020</td>\n",
       "      <td>99</td>\n",
       "      <td>NaN</td>\n",
       "      <td>NZ Dollars (millions)</td>\n",
       "      <td>12</td>\n",
       "      <td>30.2</td>\n",
       "    </tr>\n",
       "    <tr>\n",
       "      <th>4</th>\n",
       "      <td>_01_Total_RD_Expenditure</td>\n",
       "      <td>ANZSIC_1_Digit</td>\n",
       "      <td>A_Agriculture, Forestry and Fishing</td>\n",
       "      <td>2021</td>\n",
       "      <td>...</td>\n",
       "      <td>NaN</td>\n",
       "      <td>NZ Dollars (millions)</td>\n",
       "      <td>12</td>\n",
       "      <td>...</td>\n",
       "    </tr>\n",
       "    <tr>\n",
       "      <th>...</th>\n",
       "      <td>...</td>\n",
       "      <td>...</td>\n",
       "      <td>...</td>\n",
       "      <td>...</td>\n",
       "      <td>...</td>\n",
       "      <td>...</td>\n",
       "      <td>...</td>\n",
       "      <td>...</td>\n",
       "      <td>...</td>\n",
       "    </tr>\n",
       "    <tr>\n",
       "      <th>36559</th>\n",
       "      <td>_95_Total_RD_Expenditure_as_a_proportion_of_GDP</td>\n",
       "      <td>Country</td>\n",
       "      <td>United States</td>\n",
       "      <td>2017</td>\n",
       "      <td>2.9</td>\n",
       "      <td>NaN</td>\n",
       "      <td>Percentage of GDP</td>\n",
       "      <td>33 and 34</td>\n",
       "      <td>..</td>\n",
       "    </tr>\n",
       "    <tr>\n",
       "      <th>36560</th>\n",
       "      <td>_95_Total_RD_Expenditure_as_a_proportion_of_GDP</td>\n",
       "      <td>Country</td>\n",
       "      <td>United States</td>\n",
       "      <td>2018</td>\n",
       "      <td>3.01</td>\n",
       "      <td>NaN</td>\n",
       "      <td>Percentage of GDP</td>\n",
       "      <td>33 and 34</td>\n",
       "      <td>..</td>\n",
       "    </tr>\n",
       "    <tr>\n",
       "      <th>36561</th>\n",
       "      <td>_95_Total_RD_Expenditure_as_a_proportion_of_GDP</td>\n",
       "      <td>Country</td>\n",
       "      <td>United States</td>\n",
       "      <td>2019</td>\n",
       "      <td>3.17</td>\n",
       "      <td>NaN</td>\n",
       "      <td>Percentage of GDP</td>\n",
       "      <td>33 and 34</td>\n",
       "      <td>..</td>\n",
       "    </tr>\n",
       "    <tr>\n",
       "      <th>36562</th>\n",
       "      <td>_95_Total_RD_Expenditure_as_a_proportion_of_GDP</td>\n",
       "      <td>Country</td>\n",
       "      <td>United States</td>\n",
       "      <td>2020</td>\n",
       "      <td>3.47</td>\n",
       "      <td>NaN</td>\n",
       "      <td>Percentage of GDP</td>\n",
       "      <td>33 and 34</td>\n",
       "      <td>..</td>\n",
       "    </tr>\n",
       "    <tr>\n",
       "      <th>36563</th>\n",
       "      <td>_95_Total_RD_Expenditure_as_a_proportion_of_GDP</td>\n",
       "      <td>Country</td>\n",
       "      <td>United States</td>\n",
       "      <td>2021</td>\n",
       "      <td>3.46</td>\n",
       "      <td>NaN</td>\n",
       "      <td>Percentage of GDP</td>\n",
       "      <td>33 and 34</td>\n",
       "      <td>..</td>\n",
       "    </tr>\n",
       "  </tbody>\n",
       "</table>\n",
       "<p>36564 rows × 9 columns</p>\n",
       "</div>"
      ],
      "text/plain": [
       "                                              Variable       Breakdown  \\\n",
       "0                             _01_Total_RD_Expenditure  ANZSIC_1_Digit   \n",
       "1                             _01_Total_RD_Expenditure  ANZSIC_1_Digit   \n",
       "2                             _01_Total_RD_Expenditure  ANZSIC_1_Digit   \n",
       "3                             _01_Total_RD_Expenditure  ANZSIC_1_Digit   \n",
       "4                             _01_Total_RD_Expenditure  ANZSIC_1_Digit   \n",
       "...                                                ...             ...   \n",
       "36559  _95_Total_RD_Expenditure_as_a_proportion_of_GDP         Country   \n",
       "36560  _95_Total_RD_Expenditure_as_a_proportion_of_GDP         Country   \n",
       "36561  _95_Total_RD_Expenditure_as_a_proportion_of_GDP         Country   \n",
       "36562  _95_Total_RD_Expenditure_as_a_proportion_of_GDP         Country   \n",
       "36563  _95_Total_RD_Expenditure_as_a_proportion_of_GDP         Country   \n",
       "\n",
       "                        Breakdown_category  Year RD_Value Status  \\\n",
       "0      A_Agriculture, Forestry and Fishing  2016       91    NaN   \n",
       "1      A_Agriculture, Forestry and Fishing  2018       89    NaN   \n",
       "2      A_Agriculture, Forestry and Fishing  2019      ...    NaN   \n",
       "3      A_Agriculture, Forestry and Fishing  2020       99    NaN   \n",
       "4      A_Agriculture, Forestry and Fishing  2021      ...    NaN   \n",
       "...                                    ...   ...      ...    ...   \n",
       "36559                        United States  2017      2.9    NaN   \n",
       "36560                        United States  2018     3.01    NaN   \n",
       "36561                        United States  2019     3.17    NaN   \n",
       "36562                        United States  2020     3.47    NaN   \n",
       "36563                        United States  2021     3.46    NaN   \n",
       "\n",
       "                        Unit  Footnotes Relative_Sampling_Error  \n",
       "0      NZ Dollars (millions)         12                    23.8  \n",
       "1      NZ Dollars (millions)         12                    51.7  \n",
       "2      NZ Dollars (millions)         12                     ...  \n",
       "3      NZ Dollars (millions)         12                    30.2  \n",
       "4      NZ Dollars (millions)         12                     ...  \n",
       "...                      ...        ...                     ...  \n",
       "36559      Percentage of GDP  33 and 34                      ..  \n",
       "36560      Percentage of GDP  33 and 34                      ..  \n",
       "36561      Percentage of GDP  33 and 34                      ..  \n",
       "36562      Percentage of GDP  33 and 34                      ..  \n",
       "36563      Percentage of GDP  33 and 34                      ..  \n",
       "\n",
       "[36564 rows x 9 columns]"
      ]
     },
     "execution_count": 99,
     "metadata": {},
     "output_type": "execute_result"
    }
   ],
   "source": [
    "csv_data"
   ]
  },
  {
   "cell_type": "code",
   "execution_count": 100,
   "id": "7594c948-bf1a-4208-9e1e-7569496b3759",
   "metadata": {},
   "outputs": [
    {
     "name": "stdout",
     "output_type": "stream",
     "text": [
      "Defaulting to user installation because normal site-packages is not writeable\n",
      "Requirement already satisfied: html5lib in c:\\users\\ashif\\appdata\\roaming\\python\\python311\\site-packages (1.1)\n",
      "Requirement already satisfied: six>=1.9 in c:\\programdata\\anaconda3\\lib\\site-packages (from html5lib) (1.16.0)\n",
      "Requirement already satisfied: webencodings in c:\\programdata\\anaconda3\\lib\\site-packages (from html5lib) (0.5.1)\n",
      "Note: you may need to restart the kernel to use updated packages.\n"
     ]
    }
   ],
   "source": [
    "pip install html5lib"
   ]
  },
  {
   "cell_type": "code",
   "execution_count": 101,
   "id": "b9ed3ffd-731e-4711-9ced-ef2e4cf0b386",
   "metadata": {},
   "outputs": [
    {
     "data": {
      "text/html": [
       "<div>\n",
       "<style scoped>\n",
       "    .dataframe tbody tr th:only-of-type {\n",
       "        vertical-align: middle;\n",
       "    }\n",
       "\n",
       "    .dataframe tbody tr th {\n",
       "        vertical-align: top;\n",
       "    }\n",
       "\n",
       "    .dataframe thead th {\n",
       "        text-align: right;\n",
       "    }\n",
       "</style>\n",
       "<table border=\"1\" class=\"dataframe\">\n",
       "  <thead>\n",
       "    <tr style=\"text-align: right;\">\n",
       "      <th></th>\n",
       "      <th>users</th>\n",
       "    </tr>\n",
       "  </thead>\n",
       "  <tbody>\n",
       "    <tr>\n",
       "      <th>0</th>\n",
       "      <td>{'userId': 1, 'firstName': 'Krish', 'lastName'...</td>\n",
       "    </tr>\n",
       "    <tr>\n",
       "      <th>1</th>\n",
       "      <td>{'userId': 2, 'firstName': 'racks', 'lastName'...</td>\n",
       "    </tr>\n",
       "    <tr>\n",
       "      <th>2</th>\n",
       "      <td>{'userId': 3, 'firstName': 'denial', 'lastName...</td>\n",
       "    </tr>\n",
       "    <tr>\n",
       "      <th>3</th>\n",
       "      <td>{'userId': 4, 'firstName': 'devid', 'lastName'...</td>\n",
       "    </tr>\n",
       "    <tr>\n",
       "      <th>4</th>\n",
       "      <td>{'userId': 5, 'firstName': 'jone', 'lastName':...</td>\n",
       "    </tr>\n",
       "  </tbody>\n",
       "</table>\n",
       "</div>"
      ],
      "text/plain": [
       "                                               users\n",
       "0  {'userId': 1, 'firstName': 'Krish', 'lastName'...\n",
       "1  {'userId': 2, 'firstName': 'racks', 'lastName'...\n",
       "2  {'userId': 3, 'firstName': 'denial', 'lastName...\n",
       "3  {'userId': 4, 'firstName': 'devid', 'lastName'...\n",
       "4  {'userId': 5, 'firstName': 'jone', 'lastName':..."
      ]
     },
     "execution_count": 101,
     "metadata": {},
     "output_type": "execute_result"
    }
   ],
   "source": [
    "pd.read_json(r'C:\\Users\\ashif\\datascience_notebooks\\sample2.json')"
   ]
  },
  {
   "cell_type": "code",
   "execution_count": 102,
   "id": "eb4179ec-2fb2-4690-9e34-cfb625806e61",
   "metadata": {},
   "outputs": [
    {
     "data": {
      "text/plain": [
       "[   Header 1  Header 2  Header 3\n",
       " 0  Data 1-1  Data 1-2  Data 1-3\n",
       " 1  Data 2-1  Data 2-2  Data 2-3]"
      ]
     },
     "execution_count": 102,
     "metadata": {},
     "output_type": "execute_result"
    }
   ],
   "source": [
    "pd.read_html(r'C:\\Users\\ashif\\datascience_notebooks\\sample1.html')"
   ]
  },
  {
   "cell_type": "code",
   "execution_count": null,
   "id": "39bdc41b-b5bf-4342-8a50-b27c7bf8943d",
   "metadata": {},
   "outputs": [],
   "source": []
  }
 ],
 "metadata": {
  "kernelspec": {
   "display_name": "Python 3 (ipykernel)",
   "language": "python",
   "name": "python3"
  },
  "language_info": {
   "codemirror_mode": {
    "name": "ipython",
    "version": 3
   },
   "file_extension": ".py",
   "mimetype": "text/x-python",
   "name": "python",
   "nbconvert_exporter": "python",
   "pygments_lexer": "ipython3",
   "version": "3.11.7"
  }
 },
 "nbformat": 4,
 "nbformat_minor": 5
}
